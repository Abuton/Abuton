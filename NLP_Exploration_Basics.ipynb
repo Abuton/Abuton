{
  "nbformat": 4,
  "nbformat_minor": 0,
  "metadata": {
    "colab": {
      "name": "NLP Exploration Basics.ipynb",
      "provenance": [],
      "authorship_tag": "ABX9TyNzVcxumcAvoP6+qJzGpZVK",
      "include_colab_link": true
    },
    "kernelspec": {
      "name": "python3",
      "display_name": "Python 3"
    }
  },
  "cells": [
    {
      "cell_type": "markdown",
      "metadata": {
        "id": "view-in-github",
        "colab_type": "text"
      },
      "source": [
        "<a href=\"https://colab.research.google.com/github/Abuton/Abuton/blob/main/NLP_Exploration_Basics.ipynb\" target=\"_parent\"><img src=\"https://colab.research.google.com/assets/colab-badge.svg\" alt=\"Open In Colab\"/></a>"
      ]
    },
    {
      "cell_type": "code",
      "metadata": {
        "colab": {
          "base_uri": "https://localhost:8080/"
        },
        "id": "oPZ2-7ZwiMyT",
        "outputId": "88145e4a-bd95-4eb1-df59-f5e080df77d1"
      },
      "source": [
        "!pip install newspaper3k"
      ],
      "execution_count": 2,
      "outputs": [
        {
          "output_type": "stream",
          "text": [
            "Collecting newspaper3k\n",
            "\u001b[?25l  Downloading https://files.pythonhosted.org/packages/d7/b9/51afecb35bb61b188a4b44868001de348a0e8134b4dfa00ffc191567c4b9/newspaper3k-0.2.8-py3-none-any.whl (211kB)\n",
            "\r\u001b[K     |█▌                              | 10kB 12.3MB/s eta 0:00:01\r\u001b[K     |███                             | 20kB 18.1MB/s eta 0:00:01\r\u001b[K     |████▋                           | 30kB 10.9MB/s eta 0:00:01\r\u001b[K     |██████▏                         | 40kB 8.6MB/s eta 0:00:01\r\u001b[K     |███████▊                        | 51kB 4.2MB/s eta 0:00:01\r\u001b[K     |█████████▎                      | 61kB 4.9MB/s eta 0:00:01\r\u001b[K     |██████████▉                     | 71kB 4.7MB/s eta 0:00:01\r\u001b[K     |████████████▍                   | 81kB 5.1MB/s eta 0:00:01\r\u001b[K     |██████████████                  | 92kB 5.5MB/s eta 0:00:01\r\u001b[K     |███████████████▌                | 102kB 5.8MB/s eta 0:00:01\r\u001b[K     |█████████████████               | 112kB 5.8MB/s eta 0:00:01\r\u001b[K     |██████████████████▋             | 122kB 5.8MB/s eta 0:00:01\r\u001b[K     |████████████████████▏           | 133kB 5.8MB/s eta 0:00:01\r\u001b[K     |█████████████████████▊          | 143kB 5.8MB/s eta 0:00:01\r\u001b[K     |███████████████████████▎        | 153kB 5.8MB/s eta 0:00:01\r\u001b[K     |████████████████████████▉       | 163kB 5.8MB/s eta 0:00:01\r\u001b[K     |██████████████████████████▍     | 174kB 5.8MB/s eta 0:00:01\r\u001b[K     |████████████████████████████    | 184kB 5.8MB/s eta 0:00:01\r\u001b[K     |█████████████████████████████▌  | 194kB 5.8MB/s eta 0:00:01\r\u001b[K     |███████████████████████████████ | 204kB 5.8MB/s eta 0:00:01\r\u001b[K     |████████████████████████████████| 215kB 5.8MB/s \n",
            "\u001b[?25hRequirement already satisfied: PyYAML>=3.11 in /usr/local/lib/python3.7/dist-packages (from newspaper3k) (3.13)\n",
            "Requirement already satisfied: nltk>=3.2.1 in /usr/local/lib/python3.7/dist-packages (from newspaper3k) (3.2.5)\n",
            "Requirement already satisfied: requests>=2.10.0 in /usr/local/lib/python3.7/dist-packages (from newspaper3k) (2.23.0)\n",
            "Collecting feedparser>=5.2.1\n",
            "\u001b[?25l  Downloading https://files.pythonhosted.org/packages/1c/21/faf1bac028662cc8adb2b5ef7a6f3999a765baa2835331df365289b0ca56/feedparser-6.0.2-py3-none-any.whl (80kB)\n",
            "\u001b[K     |████████████████████████████████| 81kB 6.8MB/s \n",
            "\u001b[?25hCollecting cssselect>=0.9.2\n",
            "  Downloading https://files.pythonhosted.org/packages/3b/d4/3b5c17f00cce85b9a1e6f91096e1cc8e8ede2e1be8e96b87ce1ed09e92c5/cssselect-1.1.0-py2.py3-none-any.whl\n",
            "Requirement already satisfied: python-dateutil>=2.5.3 in /usr/local/lib/python3.7/dist-packages (from newspaper3k) (2.8.1)\n",
            "Collecting feedfinder2>=0.0.4\n",
            "  Downloading https://files.pythonhosted.org/packages/35/82/1251fefec3bb4b03fd966c7e7f7a41c9fc2bb00d823a34c13f847fd61406/feedfinder2-0.0.4.tar.gz\n",
            "Collecting jieba3k>=0.35.1\n",
            "\u001b[?25l  Downloading https://files.pythonhosted.org/packages/a9/cb/2c8332bcdc14d33b0bedd18ae0a4981a069c3513e445120da3c3f23a8aaa/jieba3k-0.35.1.zip (7.4MB)\n",
            "\u001b[K     |████████████████████████████████| 7.4MB 18.7MB/s \n",
            "\u001b[?25hCollecting tinysegmenter==0.3\n",
            "  Downloading https://files.pythonhosted.org/packages/17/82/86982e4b6d16e4febc79c2a1d68ee3b707e8a020c5d2bc4af8052d0f136a/tinysegmenter-0.3.tar.gz\n",
            "Collecting tldextract>=2.0.1\n",
            "\u001b[?25l  Downloading https://files.pythonhosted.org/packages/7e/62/b6acd3129c5615b9860e670df07fd55b76175b63e6b7f68282c7cad38e9e/tldextract-3.1.0-py2.py3-none-any.whl (87kB)\n",
            "\u001b[K     |████████████████████████████████| 92kB 7.7MB/s \n",
            "\u001b[?25hRequirement already satisfied: beautifulsoup4>=4.4.1 in /usr/local/lib/python3.7/dist-packages (from newspaper3k) (4.6.3)\n",
            "Requirement already satisfied: Pillow>=3.3.0 in /usr/local/lib/python3.7/dist-packages (from newspaper3k) (7.0.0)\n",
            "Requirement already satisfied: lxml>=3.6.0 in /usr/local/lib/python3.7/dist-packages (from newspaper3k) (4.2.6)\n",
            "Requirement already satisfied: six in /usr/local/lib/python3.7/dist-packages (from nltk>=3.2.1->newspaper3k) (1.15.0)\n",
            "Requirement already satisfied: urllib3!=1.25.0,!=1.25.1,<1.26,>=1.21.1 in /usr/local/lib/python3.7/dist-packages (from requests>=2.10.0->newspaper3k) (1.24.3)\n",
            "Requirement already satisfied: chardet<4,>=3.0.2 in /usr/local/lib/python3.7/dist-packages (from requests>=2.10.0->newspaper3k) (3.0.4)\n",
            "Requirement already satisfied: idna<3,>=2.5 in /usr/local/lib/python3.7/dist-packages (from requests>=2.10.0->newspaper3k) (2.10)\n",
            "Requirement already satisfied: certifi>=2017.4.17 in /usr/local/lib/python3.7/dist-packages (from requests>=2.10.0->newspaper3k) (2020.12.5)\n",
            "Collecting sgmllib3k\n",
            "  Downloading https://files.pythonhosted.org/packages/9e/bd/3704a8c3e0942d711c1299ebf7b9091930adae6675d7c8f476a7ce48653c/sgmllib3k-1.0.0.tar.gz\n",
            "Collecting requests-file>=1.4\n",
            "  Downloading https://files.pythonhosted.org/packages/77/86/cdb5e8eaed90796aa83a6d9f75cfbd37af553c47a291cd47bc410ef9bdb2/requests_file-1.5.1-py2.py3-none-any.whl\n",
            "Requirement already satisfied: filelock>=3.0.8 in /usr/local/lib/python3.7/dist-packages (from tldextract>=2.0.1->newspaper3k) (3.0.12)\n",
            "Building wheels for collected packages: feedfinder2, jieba3k, tinysegmenter, sgmllib3k\n",
            "  Building wheel for feedfinder2 (setup.py) ... \u001b[?25l\u001b[?25hdone\n",
            "  Created wheel for feedfinder2: filename=feedfinder2-0.0.4-cp37-none-any.whl size=3358 sha256=4fb37a917cb981ea5d959bfac3165877c4a0ef398119ad802d3e71c6aa080b64\n",
            "  Stored in directory: /root/.cache/pip/wheels/de/03/ca/778e3a7a627e3d98836cc890e7cb40c7575424cfd3340f40ed\n",
            "  Building wheel for jieba3k (setup.py) ... \u001b[?25l\u001b[?25hdone\n",
            "  Created wheel for jieba3k: filename=jieba3k-0.35.1-cp37-none-any.whl size=7398406 sha256=5cf64796584dc77e8d6806d772cc5f24542b32a54276ed154a03eade6a845f4d\n",
            "  Stored in directory: /root/.cache/pip/wheels/83/15/9c/a3f1f67e7f7181170ad37d32e503c35da20627c013f438ed34\n",
            "  Building wheel for tinysegmenter (setup.py) ... \u001b[?25l\u001b[?25hdone\n",
            "  Created wheel for tinysegmenter: filename=tinysegmenter-0.3-cp37-none-any.whl size=13538 sha256=6952f9ba69d871d383bfc14adeb78863a86187163563de44e19d05372b5b8918\n",
            "  Stored in directory: /root/.cache/pip/wheels/81/2b/43/a02ede72324dd40cdd7ca53aad718c7710628e91b8b0dc0f02\n",
            "  Building wheel for sgmllib3k (setup.py) ... \u001b[?25l\u001b[?25hdone\n",
            "  Created wheel for sgmllib3k: filename=sgmllib3k-1.0.0-cp37-none-any.whl size=6067 sha256=f25a89ce0ee865728d714bcf8683852e94c400089d41df558db96dab26c99d73\n",
            "  Stored in directory: /root/.cache/pip/wheels/f1/80/5a/444ba08a550cdd241bd9baf8bae44be750efe370adb944506a\n",
            "Successfully built feedfinder2 jieba3k tinysegmenter sgmllib3k\n",
            "Installing collected packages: sgmllib3k, feedparser, cssselect, feedfinder2, jieba3k, tinysegmenter, requests-file, tldextract, newspaper3k\n",
            "Successfully installed cssselect-1.1.0 feedfinder2-0.0.4 feedparser-6.0.2 jieba3k-0.35.1 newspaper3k-0.2.8 requests-file-1.5.1 sgmllib3k-1.0.0 tinysegmenter-0.3 tldextract-3.1.0\n"
          ],
          "name": "stdout"
        }
      ]
    },
    {
      "cell_type": "code",
      "metadata": {
        "id": "Vj5q3nGZg6Xw"
      },
      "source": [
        "from newspaper import Article"
      ],
      "execution_count": 3,
      "outputs": []
    },
    {
      "cell_type": "code",
      "metadata": {
        "id": "INvmUJR4iKgE"
      },
      "source": [
        "url = \"https://www.prnewswire.com/news-releases/hala-systems-leverages-hedera-hashgraph-to-deliver-early-warning-of-conflict-to-2-1-million-syrians-301174819.html\"\r\n",
        "\r\n",
        "hala_sentry_article = Article(url)"
      ],
      "execution_count": 4,
      "outputs": []
    },
    {
      "cell_type": "code",
      "metadata": {
        "id": "ieaKJbaDidFt"
      },
      "source": [
        "hala_sentry_article.download()"
      ],
      "execution_count": 5,
      "outputs": []
    },
    {
      "cell_type": "code",
      "metadata": {
        "colab": {
          "base_uri": "https://localhost:8080/"
        },
        "id": "FAhkeXOOitRh",
        "outputId": "8c352238-770a-44e3-9724-5c78c50c5d5e"
      },
      "source": [
        "hala_sentry_article.is_parsed"
      ],
      "execution_count": 7,
      "outputs": [
        {
          "output_type": "execute_result",
          "data": {
            "text/plain": [
              "False"
            ]
          },
          "metadata": {
            "tags": []
          },
          "execution_count": 7
        }
      ]
    },
    {
      "cell_type": "code",
      "metadata": {
        "id": "fviOB1DXi1wr"
      },
      "source": [
        "hala_sentry_article.parse()"
      ],
      "execution_count": 8,
      "outputs": []
    },
    {
      "cell_type": "code",
      "metadata": {
        "colab": {
          "base_uri": "https://localhost:8080/"
        },
        "id": "p5KeUEehjAxM",
        "outputId": "4b53a550-a386-4553-e1bf-eac4fb3a7166"
      },
      "source": [
        "import nltk\r\n",
        "nltk.download('punkt')"
      ],
      "execution_count": 10,
      "outputs": [
        {
          "output_type": "stream",
          "text": [
            "[nltk_data] Downloading package punkt to /root/nltk_data...\n",
            "[nltk_data]   Unzipping tokenizers/punkt.zip.\n"
          ],
          "name": "stdout"
        },
        {
          "output_type": "execute_result",
          "data": {
            "text/plain": [
              "True"
            ]
          },
          "metadata": {
            "tags": []
          },
          "execution_count": 10
        }
      ]
    },
    {
      "cell_type": "code",
      "metadata": {
        "id": "AC8OimD2i6ET"
      },
      "source": [
        "hala_sentry_article.nlp()"
      ],
      "execution_count": 11,
      "outputs": []
    },
    {
      "cell_type": "code",
      "metadata": {
        "colab": {
          "base_uri": "https://localhost:8080/"
        },
        "id": "kCudL3Y_i9Bd",
        "outputId": "e832104a-515f-4e27-8c0a-8f1591be1644"
      },
      "source": [
        "hala_sentry_article.authors"
      ],
      "execution_count": 12,
      "outputs": [
        {
          "output_type": "execute_result",
          "data": {
            "text/plain": [
              "['Hedera Hashgraph']"
            ]
          },
          "metadata": {
            "tags": []
          },
          "execution_count": 12
        }
      ]
    },
    {
      "cell_type": "code",
      "metadata": {
        "id": "GLq8NLewkxb4"
      },
      "source": [
        "hala_sentry_article.publish_date"
      ],
      "execution_count": 13,
      "outputs": []
    },
    {
      "cell_type": "code",
      "metadata": {
        "colab": {
          "base_uri": "https://localhost:8080/"
        },
        "id": "wzjCVk2Kk5W-",
        "outputId": "10d48721-3078-4eb6-f402-10d0f6bf7f21"
      },
      "source": [
        "hala_sentry_article.keywords"
      ],
      "execution_count": 14,
      "outputs": [
        {
          "output_type": "execute_result",
          "data": {
            "text/plain": [
              "['deliver',\n",
              " 'visit',\n",
              " 'hala',\n",
              " 'leverages',\n",
              " 'media',\n",
              " 'hedera',\n",
              " 'information',\n",
              " 'network',\n",
              " 'million',\n",
              " 'syrians',\n",
              " 'data',\n",
              " 'systems',\n",
              " 'warning',\n",
              " 'early',\n",
              " 'hashgraph']"
            ]
          },
          "metadata": {
            "tags": []
          },
          "execution_count": 14
        }
      ]
    },
    {
      "cell_type": "code",
      "metadata": {
        "colab": {
          "base_uri": "https://localhost:8080/"
        },
        "id": "NH-TDRMHk9Ms",
        "outputId": "096ec94d-f40d-49b8-cd25-33c798d7c08d"
      },
      "source": [
        "print(hala_sentry_article.text)"
      ],
      "execution_count": 15,
      "outputs": [
        {
          "output_type": "stream",
          "text": [
            "John Jaeger, CEO of Hala Systems, said, \"Online information can be easily manipulated and faked, and yet it informs crucial decisions and impacts lives. Hedera's distributed ledger provides Hala Systems with reliable data provenance, in which the public can view digital media and be confident about its authenticity. The impact this will have on our management of humanitarian crises globally will be profound. Hala Sentry empowers civilians to record immutable data from their smartphones, warning others of potential dangers, accurately documenting events as they happen, and providing global stakeholders with credible records upon which to base decisions.\"\n",
            "\n",
            "Sentry uses a multi-sensor network to generate credible, real-time situational awareness in order to provide early warning notifications and first responder coordination to people devastated by man-made and natural disasters. Remote sensing and artificial intelligence (AI) instantaneously identify information, including audio sirens, visual warnings, radio broadcasts, and social media alerts, allowing humanitarian organizations to effectively allocate scarce resources to protect and serve vulnerable civilian populations. Digital media sources are stored on Hedera's platform, as a transparent and tamper-proof record, which allows stakeholders a single source of truth.\n",
            "\n",
            "In an analysis of multiple offensives in northwest Syria since 2017, Sentry was correlated with a 10-30% mean reduction in net casualty rates due to airstrikes, with 250,000 people benefiting from reduced traumatic anxiety (data verified by Exigo ). The system issues an average of 140 early warnings per day, offering citizens approximately 7-10 minutes of warning in advance of crises.\n",
            "\n",
            "Hala Systems leverages the HCS to manage the metadata of digital media by Sentry. Hala Systems can provide real evidence and verification for exactly when and where media originated. Each event logged to the HCS is signed by the issuing camera's keys and receives a consensus timestamp by the whole Hedera network. This ensures that the data can be better trusted by supporting third parties and, if needed, the broader public due to its tamper-proof nature. This provides external parties wanting to verify the information with credible details surrounding the who, what, where, and when of an event.\n",
            "\n",
            "Initially, Hala Systems explored the Ethereum platform, but found its probabilistic (not definitive) consensus, smart contracts with highly variable fees, and slow confirmation times unsuitable for their use case. By contrast, the hashgraph consensus algorithm and data structure allow for the Hedera network to operate much more efficiently, with higher throughput and drastically lower costs.\n",
            "\n",
            "Mance Harmon, CEO and Co-founder of Hedera Hashgraph, said, \"Hala Systems is on a noble mission to protect civilians worldwide. Together with the company's other partners, including the United Nations, U.K. Foreign Commonwealth and Development Office, the U.S. State Department, and other foreign ministries, we look forward to being part of this conflict management solution. We are humbled that Hala Systems is leveraging the HCS to provide an additional layer of trust and transparency for conflict management and prevention.\"\n",
            "\n",
            "For more information on the integration, visit: http://hedera.com/hala-systems-case-study .\n",
            "\n",
            "About Hedera\n",
            "\n",
            "Hedera is a decentralized public network on which developers can build secure, fair applications with near real-time finality. The platform is owned and governed by a council of the world's leading organizations including Avery Dennison, Boeing, Deutsche Telekom, DLA Piper, FIS (WorldPay), Google, IBM, LG Electronics, Magalu, Nomura, Swirlds, Tata Communications, University College London (UCL), Wipro, and Zain Group.\n",
            "\n",
            "For more information, visit www.hedera.com, or follow us on Twitter at @hashgraph, Telegram at t.me/hederahashgraph, or Discord at www.hedera.com/discord. The Hedera whitepaper can be found at www.hedera.com/whitepaper.\n",
            "\n",
            "About Hala Systems\n",
            "\n",
            "Hala is a social enterprise working to transform the nature of protection and accountability in the world's toughest places by democratizing emerging technology. Hala is currently saving lives, reducing trauma, and improving resilience for millions of civilians in conflict zones, such as Syria and Yemen. Following an analysis of multiple offensives in northwest Syria since 2017, Hala's technology solutions were correlated with a 10-30% mean reduction in net casualty rates due to airstrikes. For more information, visit https://halasystems.com/ .\n",
            "\n",
            "For Media Enquiries\n",
            "\n",
            "Zenobia Godschalk\n",
            "\n",
            "E: [email protected]\n",
            "\n",
            "Emily Kielthy\n",
            "\n",
            "Wachsman\n",
            "\n",
            "E: [email protected]\n",
            "\n",
            "T: +353 87 097 2754\n",
            "\n",
            "SOURCE Hedera Hashgraph\n"
          ],
          "name": "stdout"
        }
      ]
    },
    {
      "cell_type": "code",
      "metadata": {
        "colab": {
          "base_uri": "https://localhost:8080/"
        },
        "id": "14gSRXnIlNfw",
        "outputId": "5a40ed22-5f6a-4685-faa9-eba17a6aae57"
      },
      "source": [
        "print(hala_sentry_article.summary)"
      ],
      "execution_count": 16,
      "outputs": [
        {
          "output_type": "stream",
          "text": [
            "John Jaeger, CEO of Hala Systems, said, \"Online information can be easily manipulated and faked, and yet it informs crucial decisions and impacts lives.\n",
            "Hala Systems leverages the HCS to manage the metadata of digital media by Sentry.\n",
            "Each event logged to the HCS is signed by the issuing camera's keys and receives a consensus timestamp by the whole Hedera network.\n",
            "Mance Harmon, CEO and Co-founder of Hedera Hashgraph, said, \"Hala Systems is on a noble mission to protect civilians worldwide.\n",
            "We are humbled that Hala Systems is leveraging the HCS to provide an additional layer of trust and transparency for conflict management and prevention.\"\n"
          ],
          "name": "stdout"
        }
      ]
    },
    {
      "cell_type": "markdown",
      "metadata": {
        "id": "hkCPT0PhmIpa"
      },
      "source": [
        "Testing Out Punch \r\n"
      ]
    },
    {
      "cell_type": "code",
      "metadata": {
        "id": "55OCRoAVllUj"
      },
      "source": [
        "import newspaper\r\n",
        "punch_paper = newspaper.build('https://punchng.com')"
      ],
      "execution_count": 18,
      "outputs": []
    },
    {
      "cell_type": "code",
      "metadata": {
        "colab": {
          "base_uri": "https://localhost:8080/"
        },
        "id": "sh3unBt4mXb5",
        "outputId": "5cd9dcfe-1828-4226-8e1b-388feb6096ff"
      },
      "source": [
        "for article in punch_paper.articles:\r\n",
        "  print(article.url)"
      ],
      "execution_count": 19,
      "outputs": [
        {
          "output_type": "stream",
          "text": [
            "https://punchng.com/topics/news/\n",
            "https://punchng.com/pictorial-buhari-meets-new-efcc-chairman-bawa-in-aso-villa/\n",
            "https://punchng.com/im-afraid-malami-wont-let-bawa-succeed-sagay/\n",
            "https://punchng.com/mixed-reactions-as-driver-tips-lagos-policeman-over-bridge/\n",
            "https://punchng.com/2023-i-have-no-interest-in-tinubus-presidential-ambition-says-fayose/\n",
            "https://punchng.com/policeman-who-fell-from-bridge-discharged-from-hospital-ppro/\n",
            "https://punchng.com/cleric-alleges-threat-to-life-drags-brother-to-court-in-enugu/\n",
            "https://punchng.com/agencies-disobeyed-osinbajos-directive-on-24-hour-port-operation-npa-md/\n",
            "https://punchng.com/golden-globe-awards-to-hold-despite-covid-19-pandemic/\n",
            "https://punchng.com/seven-nigerian-celebrities-fans-have-honoured-with-tattoos/\n",
            "https://punchng.com/driver-who-tipped-policeman-over-bridge-to-forfeit-vehicle-risks-jail/\n",
            "https://punchng.com/lawyer-to-withdraw-suit-against-bawa-senate/\n",
            "https://punchng.com/olympic-champion-semenya-files-lawsuit-against-testosterone-rule/\n",
            "https://punchng.com/three-dead-five-critical-after-singapore-workshop-blast/\n",
            "https://punchng.com/ex-oyo-rep-lam-adesina-rejoins-apc/\n",
            "https://punchng.com/dont-address-bandits-as-criminals-says-sheikh-gumi/\n",
            "https://punchng.com/contract-talks-with-neymar-on-track-says-psgs-leonardo/\n",
            "https://punchng.com/season-of-fear-in-edo-as-killer-herders-take-over-forests-highways/\n",
            "https://punchng.com/topics/video/\n",
            "https://punchng.com/video-man-driving-against-traffic-tips-policeman-over-bridge-in-lagos/\n",
            "https://punchng.com/do-alcoholic-drinks-and-body-sprays-kill-covid-19-60-secs-fact-checking/\n",
            "https://punchng.com/video-students-of-rochas-okorochas-school-stage-protest-in-imo/\n",
            "https://punchng.com/fleeing-driver-arrested-with-boss-stolen-car-in-ogun/\n",
            "https://punchng.com/police-plead-for-calm-as-cultists-kill-enugu-town-union-leader/\n",
            "https://punchng.com/magodo-residents-tackle-igps-team-over-chairmans-foiled-arrest/\n",
            "https://punchng.com/sheik-gumi-is-why-we-all-need-tribalism/\n",
            "https://punchng.com/ungoverned-spaces-from-kankara-to-kagara/\n",
            "https://punchng.com/apathy-to-herdsmen-farmers-crisis-a-looming-anarchy/\n",
            "https://punchng.com/akeredolu-set-for-consolidation-of-redemption-of-ondo/\n",
            "https://punchng.com/truth-talk-and-emotions-of-drumbeats-of-war-1/\n",
            "https://punchng.com/hoodlums-disrupt-apc-membership-registration-in-oyo/\n",
            "https://punchng.com/my-govt-will-empower-one-million-youths-annually-soludo/\n",
            "https://punchng.com/elders-intervene-as-oyetola-aregbesolas-aides-differ-on-ex-govs-comments/\n",
            "https://punchng.com/metuh-recounts-demonic-prison-experience-says-hell-serve-god/\n",
            "https://punchng.com/nigeria-loses-n151-78bn-crude-oil-monthly-nnpc/\n",
            "https://punchng.com/nigerias-revenue-prospects-brighten-as-oil-hits-67/\n",
            "https://punchng.com/mdas-failed-to-remit-n1tn-says-frc/\n",
            "https://punchng.com/cac-says-protest-illegal-as-nlc-grounds-operations/\n",
            "https://punchng.com/concessionaire-will-pump-n28bn-into-asaba-airport-okowa/\n",
            "https://punchng.com/biotech-firm-launches-lassa-vaccine-trial-in-west-africa/\n",
            "https://punchng.com/ghana-to-receive-worlds-first-doses-of-free-covax-vaccines-unicef/\n",
            "https://punchng.com/patronise-phcs-for-free-care-commissioner-urges-residents/\n",
            "https://punchng.com/jik-seals-endorsement-deal-with-national-association-of-nigeria-nurses-and-midwives/\n",
            "https://punchng.com/5-incredible-reasons-why-you-should-attend-the-study-in-ireland-nigeria-fair/\n",
            "https://punchng.com/a-web-platform-for-loans-and-credit-launches-in-south-africa-kenya-and-ghana/\n",
            "https://punchng.com/video-insecurity-benue-governor-ortom-slams-bauchi-counterpart-bala-mohammed/\n",
            "https://punchng.com/video-gov-hope-uzodinma-is-displaying-thuggery-in-governance-ex-gov-okorocha/\n",
            "https://punchng.com/video-moment-kidnapped-passengers-of-niger-state-transport-authority-regained-freedom/\n",
            "https://punchng.com/video-ex-gov-okorocha-in-war-of-words-with-gov-uzodinmas-aide/\n",
            "https://punchng.com/naaba-falana-agbakoba-others-set-december-date-for-peoples-constitution/\n",
            "https://punchng.com/ortom-attacks-mohammed-calls-bauchi-gov-fulani-terror-member/\n",
            "https://punchng.com/school-kidnapping-takes-place-in-us-other-developed-countries-lai-mohammed/\n",
            "https://punchng.com/division-among-bandits-delays-abducted-niger-schoolboys-release/\n",
            "https://punchng.com/i-dropped-ransom-for-my-brothers-kidnappers-near-police-station-brother-of-slain-american-returnee/\n",
            "https://punchng.com/negotiating-with-gunmenll-encourage-banditry-prof-oloyede-nscia-secretary-general/\n",
            "https://punchng.com/amnesty-for-bandits-cant-work-they-are-common-criminals-senator-musa/\n",
            "https://punchng.com/why-south-west-pdp-is-divided-into-fayose-makinde-camps-senator-tofowomo/\n",
            "https://punchng.com/nba-jazz-beat-lakers-dort-delivers-for-okc/\n",
            "https://punchng.com/joshua-to-fury-im-the-boss/\n",
            "https://punchng.com/i-didnt-post-on-my-wifes-birthday-because-of-what-social-media-militants-did-to-adeboye-bamiloye/\n",
            "https://punchng.com/british-high-commissioner-laing-joins-belikengozichallenge/\n",
            "https://punchng.com/ive-been-singing-lori-iro-sermon-for-six-years-viral-preacher/\n",
            "https://punchng.com/nigerians-divided-over-okupe-sons-gay-status/\n",
            "https://punchng.com/book-in-my-honourll-tackle-challenges-in-education-okebukola/\n",
            "https://punchng.com/unilorin-vc-heads-national-vice-chancellors-body/\n",
            "https://punchng.com/experts-warn-youths-against-negative-addictions/\n",
            "https://punchng.com/ada-ameh-slams-bbnaijas-ka3na-for-scolding-fan-who-tattooed-name-on-lap/\n",
            "https://punchng.com/french-electronic-music-duo-daft-punk-confirm-split-after-28-years/\n",
            "https://punchng.com/mdcn-registrar-urges-govt-to-tackle-brain-drain/\n",
            "https://punchng.com/cutting-corners-to-glory-rising-trend-of-doping-among-teenage-nigerian-athletes/\n",
            "https://punchng.com/rescued-nigerian-migrants-recount-horrible-experiences-in-libya-survival-struggles-at-home/\n",
            "https://punchng.com/hoodlums-renewed-mayhem-creating-panic-in-oyo/\n",
            "https://punchng.com/sasa-anatomy-of-a-costly-deadly-bloody-crisis/\n",
            "https://punchng.com/cryptocurrency-we-acted-in-best-interest-of-nigerians-%e2%80%95emefiele/\n",
            "https://punchng.com/bitcoin-tumbles-after-us-regulator-warning/\n",
            "https://punchng.com/mercuryo-extends-crypto-purchases-to-africa/\n",
            "https://punchng.com/ict-drove-economic-growth-in-2020-says-pantami/\n",
            "https://punchng.com/okonjo-iweala-wto-and-nigerias-trade-priorities/\n",
            "https://punchng.com/hawkers-pain-bitter-struggles-of-lagos-traders-who-prefer-traffic-scorching-sun-to-malls/\n",
            "https://punchng.com/gumi-should-be-investigated-for-becoming-spiritual-leader-of-bandits-sokapu-spokesman-binniyat/\n",
            "https://punchng.com/mining-is-not-contributing-much-to-nigerias-economic-development-because-of-poor-attention-to-geo-sciences-vc-mountain-top-university-ayolabi/\n",
            "https://punchng.com/seven-ways-to-detect-hidden-camera-in-a-hotel-room/\n",
            "https://punchng.com/10-valentines-day-gifts-for-your-spouse/\n",
            "https://punchng.com/seven-covid-19-precautions-for-schools/\n",
            "https://punchng.com/what-will-you-do-if-your-spouse-dislikes-your-parents/\n",
            "https://healthwise.punchng.com/category/news/\n",
            "https://healthwise.punchng.com/an-apple-a-day-may-boost-brain-function-prevent-alzheimers-disease-dietician/\n",
            "https://healthwise.punchng.com/an-apple-a-day-may-boost-brain-function-prevent-alzheimers-disease-dietician/#respond\n",
            "https://healthwise.punchng.com/taking-supplements-without-doctor-supervision-risky-for-women-gynaecologist/\n",
            "https://healthwise.punchng.com/taking-supplements-without-doctor-supervision-risky-for-women-gynaecologist/#respond\n",
            "https://healthwise.punchng.com/study-reveals-cholesterol-lowering-drugs-dont-cause-muscle-pain/\n",
            "https://healthwise.punchng.com/study-reveals-cholesterol-lowering-drugs-dont-cause-muscle-pain/#respond\n",
            "https://healthwise.punchng.com/vaccine-for-south-africas-covid-19-variant-ready-for-testing/\n",
            "https://healthwise.punchng.com/vaccine-for-south-africas-covid-19-variant-ready-for-testing/#respond\n",
            "https://healthwise.punchng.com/new-study-confirms-pfizer-covid-19-vaccine-94-effective/\n",
            "https://healthwise.punchng.com/new-study-confirms-pfizer-covid-19-vaccine-94-effective/#respond\n",
            "https://healthwise.punchng.com/655-new-covid-19-infections-11-deaths-reported-in-20-states-fct/\n",
            "https://healthwise.punchng.com/655-new-covid-19-infections-11-deaths-reported-in-20-states-fct/#respond\n",
            "https://healthwise.punchng.com/breaking-ghana-receives-first-shipment-of-covax-vaccines/\n",
            "https://healthwise.punchng.com/breaking-biotech-firm-launches-lassa-vaccine-phase-i-trial-in-west-africa/\n",
            "https://healthwise.punchng.com/breaking-new-covid-19-variant-b125-discovered-in-nigeria-15-other-countries/\n",
            "https://healthwise.punchng.com/pfizer-covid-19-vaccine-doesnt-need-super-cold-temperatures-again-manufacturers/\n",
            "https://healthwise.punchng.com/breaking-ncdc-places-nigeria-at-moderate-risk-of-ebola-as-guinea-suffers-outbreak/\n",
            "https://healthwise.punchng.com/in-case-youre-in-doubt-heres-where-not-to-store-condoms/\n",
            "https://healthwise.punchng.com/access-to-condoms-will-check-sexually-transmitted-infection-rate/\n",
            "https://healthwise.punchng.com/why-women-may-continue-to-have-sex-late-into-pregnancy-physician/\n",
            "https://healthwise.punchng.com/eating-soy-products-physical-inactivity-can-cause-persistent-genital-arousal-disorder-experts/\n",
            "https://healthwise.punchng.com/researchers-create-smart-plaster-that-tracks-status-of-infections-in-wounds/\n",
            "https://healthwise.punchng.com/researchers-create-smart-plaster-that-tracks-status-of-infections-in-wounds/#respond\n",
            "https://healthwise.punchng.com/5g-not-hazardous-to-be-deployed-in-2021-ncc/\n",
            "https://healthwise.punchng.com/5g-not-hazardous-to-be-deployed-in-2021-ncc/#respond\n",
            "https://healthwise.punchng.com/scientists-develop-medical-tattoos-for-health-diagnosis/\n",
            "https://healthwise.punchng.com/scientists-develop-medical-tattoos-for-health-diagnosis/#respond\n",
            "https://healthwise.punchng.com/sun-enters-new-25-year-solar-cycle/\n",
            "https://healthwise.punchng.com/sun-enters-new-25-year-solar-cycle/#respond\n",
            "https://healthwise.punchng.com/19898-2ex-football-player-dies-after-legs-amputated-following-covid-19/\n",
            "https://healthwise.punchng.com/states-to-conduct-covid-19-tests-72-hours-before-nsf/\n",
            "https://healthwise.punchng.com/premier-league-covid-19-cases-drop-by-50/\n",
            "https://healthwise.punchng.com/real-madrid-coach-zidane-test-positive-for-covid-19/\n",
            "https://healthwise.punchng.com/no-matter-your-size-or-shape-exercise/\n",
            "https://healthwise.punchng.com/its-difficult-to-bond-with-deformed-baby-mothers-of-newborns-with-cleft-conditions/\n",
            "https://healthwise.punchng.com/its-difficult-to-bond-with-deformed-baby-mothers-of-newborns-with-cleft-conditions/#respond\n",
            "https://healthwise.punchng.com/what-to-do-when-getting-a-second-child-becomes-a-problem/\n",
            "https://healthwise.punchng.com/what-to-do-when-getting-a-second-child-becomes-a-problem/#respond\n",
            "https://healthwise.punchng.com/regular-aerobic-exercise-reduces-blood-pressure-risk-of-heart-attack-cardiologist/\n",
            "https://healthwise.punchng.com/regular-aerobic-exercise-reduces-blood-pressure-risk-of-heart-attack-cardiologist/#respond\n",
            "https://healthwise.punchng.com/depression-anxiety-may-become-common-as-covid-19-enters-second-year/\n",
            "https://healthwise.punchng.com/depression-anxiety-may-become-common-as-covid-19-enters-second-year/#respond\n"
          ],
          "name": "stdout"
        }
      ]
    },
    {
      "cell_type": "code",
      "metadata": {
        "colab": {
          "base_uri": "https://localhost:8080/"
        },
        "id": "8A-PrHcLnL82",
        "outputId": "8d257918-f456-4259-b7e9-84a2eece4612"
      },
      "source": [
        "for category in punch_paper.category_urls():\r\n",
        "  print(category)"
      ],
      "execution_count": 20,
      "outputs": [
        {
          "output_type": "stream",
          "text": [
            "https://epaper.punchng.com\n",
            "https://punchng.com\n",
            "https://healthwise.punchng.com\n",
            "https://punchng.com\n"
          ],
          "name": "stdout"
        }
      ]
    },
    {
      "cell_type": "code",
      "metadata": {
        "id": "2ckAyEq_nhjK"
      },
      "source": [
        "punch_article = punch_paper.articles[0]\r\n",
        "punch_article.download()\r\n",
        "punch_article.parse()\r\n",
        "punch_article.nlp()"
      ],
      "execution_count": 21,
      "outputs": []
    },
    {
      "cell_type": "code",
      "metadata": {
        "colab": {
          "base_uri": "https://localhost:8080/"
        },
        "id": "bSRdbV3HoCTs",
        "outputId": "4f79d837-7fec-4016-91e4-b263cf9c0060"
      },
      "source": [
        "type(punch_article)"
      ],
      "execution_count": 22,
      "outputs": [
        {
          "output_type": "execute_result",
          "data": {
            "text/plain": [
              "newspaper.article.Article"
            ]
          },
          "metadata": {
            "tags": []
          },
          "execution_count": 22
        }
      ]
    },
    {
      "cell_type": "code",
      "metadata": {
        "colab": {
          "base_uri": "https://localhost:8080/"
        },
        "id": "1PUdxVnNoFSC",
        "outputId": "400c7d2d-e7bb-4e0b-fafd-f3faebecebe3"
      },
      "source": [
        "punch_article.authors"
      ],
      "execution_count": 24,
      "outputs": [
        {
          "output_type": "execute_result",
          "data": {
            "text/plain": [
              "[]"
            ]
          },
          "metadata": {
            "tags": []
          },
          "execution_count": 24
        }
      ]
    },
    {
      "cell_type": "code",
      "metadata": {
        "colab": {
          "base_uri": "https://localhost:8080/"
        },
        "id": "FbHCdVocoI6g",
        "outputId": "fd8590e5-004e-48f0-cec0-9dc6a0114fc1"
      },
      "source": [
        "print(punch_article.text)"
      ],
      "execution_count": 26,
      "outputs": [
        {
          "output_type": "stream",
          "text": [
            "Segun Adewole Popular Islamic scholar, Sheikh Ahmad Gumi, has advised that bandits should not be referred to as criminals if Nigerians want them to put down their weapons. Gumi said the bandits should be treated with nice words and made to see that they are Nigerians and also part of the society. The cleric who […]\n"
          ],
          "name": "stdout"
        }
      ]
    },
    {
      "cell_type": "code",
      "metadata": {
        "colab": {
          "base_uri": "https://localhost:8080/"
        },
        "id": "-8xcd84wo0YC",
        "outputId": "3d76e6fc-691f-4abd-ad97-fe016a0486dc"
      },
      "source": [
        "punch_article.keywords"
      ],
      "execution_count": 27,
      "outputs": [
        {
          "output_type": "execute_result",
          "data": {
            "text/plain": [
              "['treated',\n",
              " 'nigerians',\n",
              " 'sheikh',\n",
              " 'segun',\n",
              " 'words',\n",
              " 'punch',\n",
              " 'society',\n",
              " 'scholar',\n",
              " 'weapons',\n",
              " 'bandits',\n",
              " 'newspapers',\n",
              " 'gumi']"
            ]
          },
          "metadata": {
            "tags": []
          },
          "execution_count": 27
        }
      ]
    },
    {
      "cell_type": "code",
      "metadata": {
        "colab": {
          "base_uri": "https://localhost:8080/"
        },
        "id": "dQtSmYhIpCj7",
        "outputId": "4937dcad-cb32-456b-ec7e-18dd50eb8839"
      },
      "source": [
        "print(punch_article.summary)"
      ],
      "execution_count": 29,
      "outputs": [
        {
          "output_type": "stream",
          "text": [
            "Segun Adewole Popular Islamic scholar, Sheikh Ahmad Gumi, has advised that bandits should not be referred to as criminals if Nigerians want them to put down their weapons.\n",
            "Gumi said the bandits should be treated with nice words and made to see that they are Nigerians and also part of the society.\n",
            "The cleric who […]\n"
          ],
          "name": "stdout"
        }
      ]
    },
    {
      "cell_type": "code",
      "metadata": {
        "colab": {
          "base_uri": "https://localhost:8080/",
          "height": 1000
        },
        "id": "pVzYxuE0pTI9",
        "outputId": "7732ad30-4a36-4108-e394-fc03ad3ee298"
      },
      "source": [
        "!pip install texthero"
      ],
      "execution_count": 30,
      "outputs": [
        {
          "output_type": "stream",
          "text": [
            "Collecting texthero\n",
            "  Downloading https://files.pythonhosted.org/packages/1f/5a/a9d33b799fe53011de79d140ad6d86c440a2da1ae8a7b24e851ee2f8bde8/texthero-1.0.9-py3-none-any.whl\n",
            "Requirement already satisfied: plotly>=4.2.0 in /usr/local/lib/python3.7/dist-packages (from texthero) (4.4.1)\n",
            "Requirement already satisfied: tqdm>=4.3 in /usr/local/lib/python3.7/dist-packages (from texthero) (4.41.1)\n",
            "Requirement already satisfied: wordcloud>=1.5.0 in /usr/local/lib/python3.7/dist-packages (from texthero) (1.5.0)\n",
            "Collecting nltk>=3.3\n",
            "\u001b[?25l  Downloading https://files.pythonhosted.org/packages/92/75/ce35194d8e3022203cca0d2f896dbb88689f9b3fce8e9f9cff942913519d/nltk-3.5.zip (1.4MB)\n",
            "\u001b[K     |████████████████████████████████| 1.4MB 7.7MB/s \n",
            "\u001b[?25hRequirement already satisfied: numpy>=1.17 in /usr/local/lib/python3.7/dist-packages (from texthero) (1.19.5)\n",
            "Requirement already satisfied: gensim>=3.6.0 in /usr/local/lib/python3.7/dist-packages (from texthero) (3.6.0)\n",
            "Requirement already satisfied: spacy>=2.2.2 in /usr/local/lib/python3.7/dist-packages (from texthero) (2.2.4)\n",
            "Collecting unidecode>=1.1.1\n",
            "\u001b[?25l  Downloading https://files.pythonhosted.org/packages/9e/25/723487ca2a52ebcee88a34d7d1f5a4b80b793f179ee0f62d5371938dfa01/Unidecode-1.2.0-py2.py3-none-any.whl (241kB)\n",
            "\u001b[K     |████████████████████████████████| 245kB 29.8MB/s \n",
            "\u001b[?25hRequirement already satisfied: matplotlib>=3.1.0 in /usr/local/lib/python3.7/dist-packages (from texthero) (3.2.2)\n",
            "Requirement already satisfied: scikit-learn>=0.22 in /usr/local/lib/python3.7/dist-packages (from texthero) (0.22.2.post1)\n",
            "Requirement already satisfied: pandas>=1.0.2 in /usr/local/lib/python3.7/dist-packages (from texthero) (1.1.5)\n",
            "Requirement already satisfied: retrying>=1.3.3 in /usr/local/lib/python3.7/dist-packages (from plotly>=4.2.0->texthero) (1.3.3)\n",
            "Requirement already satisfied: six in /usr/local/lib/python3.7/dist-packages (from plotly>=4.2.0->texthero) (1.15.0)\n",
            "Requirement already satisfied: pillow in /usr/local/lib/python3.7/dist-packages (from wordcloud>=1.5.0->texthero) (7.0.0)\n",
            "Requirement already satisfied: click in /usr/local/lib/python3.7/dist-packages (from nltk>=3.3->texthero) (7.1.2)\n",
            "Requirement already satisfied: joblib in /usr/local/lib/python3.7/dist-packages (from nltk>=3.3->texthero) (1.0.1)\n",
            "Requirement already satisfied: regex in /usr/local/lib/python3.7/dist-packages (from nltk>=3.3->texthero) (2019.12.20)\n",
            "Requirement already satisfied: scipy>=0.18.1 in /usr/local/lib/python3.7/dist-packages (from gensim>=3.6.0->texthero) (1.4.1)\n",
            "Requirement already satisfied: smart-open>=1.2.1 in /usr/local/lib/python3.7/dist-packages (from gensim>=3.6.0->texthero) (4.2.0)\n",
            "Requirement already satisfied: thinc==7.4.0 in /usr/local/lib/python3.7/dist-packages (from spacy>=2.2.2->texthero) (7.4.0)\n",
            "Requirement already satisfied: blis<0.5.0,>=0.4.0 in /usr/local/lib/python3.7/dist-packages (from spacy>=2.2.2->texthero) (0.4.1)\n",
            "Requirement already satisfied: srsly<1.1.0,>=1.0.2 in /usr/local/lib/python3.7/dist-packages (from spacy>=2.2.2->texthero) (1.0.5)\n",
            "Requirement already satisfied: murmurhash<1.1.0,>=0.28.0 in /usr/local/lib/python3.7/dist-packages (from spacy>=2.2.2->texthero) (1.0.5)\n",
            "Requirement already satisfied: catalogue<1.1.0,>=0.0.7 in /usr/local/lib/python3.7/dist-packages (from spacy>=2.2.2->texthero) (1.0.0)\n",
            "Requirement already satisfied: preshed<3.1.0,>=3.0.2 in /usr/local/lib/python3.7/dist-packages (from spacy>=2.2.2->texthero) (3.0.5)\n",
            "Requirement already satisfied: setuptools in /usr/local/lib/python3.7/dist-packages (from spacy>=2.2.2->texthero) (53.0.0)\n",
            "Requirement already satisfied: plac<1.2.0,>=0.9.6 in /usr/local/lib/python3.7/dist-packages (from spacy>=2.2.2->texthero) (1.1.3)\n",
            "Requirement already satisfied: wasabi<1.1.0,>=0.4.0 in /usr/local/lib/python3.7/dist-packages (from spacy>=2.2.2->texthero) (0.8.2)\n",
            "Requirement already satisfied: cymem<2.1.0,>=2.0.2 in /usr/local/lib/python3.7/dist-packages (from spacy>=2.2.2->texthero) (2.0.5)\n",
            "Requirement already satisfied: requests<3.0.0,>=2.13.0 in /usr/local/lib/python3.7/dist-packages (from spacy>=2.2.2->texthero) (2.23.0)\n",
            "Requirement already satisfied: cycler>=0.10 in /usr/local/lib/python3.7/dist-packages (from matplotlib>=3.1.0->texthero) (0.10.0)\n",
            "Requirement already satisfied: kiwisolver>=1.0.1 in /usr/local/lib/python3.7/dist-packages (from matplotlib>=3.1.0->texthero) (1.3.1)\n",
            "Requirement already satisfied: python-dateutil>=2.1 in /usr/local/lib/python3.7/dist-packages (from matplotlib>=3.1.0->texthero) (2.8.1)\n",
            "Requirement already satisfied: pyparsing!=2.0.4,!=2.1.2,!=2.1.6,>=2.0.1 in /usr/local/lib/python3.7/dist-packages (from matplotlib>=3.1.0->texthero) (2.4.7)\n",
            "Requirement already satisfied: pytz>=2017.2 in /usr/local/lib/python3.7/dist-packages (from pandas>=1.0.2->texthero) (2018.9)\n",
            "Requirement already satisfied: importlib-metadata>=0.20; python_version < \"3.8\" in /usr/local/lib/python3.7/dist-packages (from catalogue<1.1.0,>=0.0.7->spacy>=2.2.2->texthero) (3.4.0)\n",
            "Requirement already satisfied: certifi>=2017.4.17 in /usr/local/lib/python3.7/dist-packages (from requests<3.0.0,>=2.13.0->spacy>=2.2.2->texthero) (2020.12.5)\n",
            "Requirement already satisfied: idna<3,>=2.5 in /usr/local/lib/python3.7/dist-packages (from requests<3.0.0,>=2.13.0->spacy>=2.2.2->texthero) (2.10)\n",
            "Requirement already satisfied: chardet<4,>=3.0.2 in /usr/local/lib/python3.7/dist-packages (from requests<3.0.0,>=2.13.0->spacy>=2.2.2->texthero) (3.0.4)\n",
            "Requirement already satisfied: urllib3!=1.25.0,!=1.25.1,<1.26,>=1.21.1 in /usr/local/lib/python3.7/dist-packages (from requests<3.0.0,>=2.13.0->spacy>=2.2.2->texthero) (1.24.3)\n",
            "Requirement already satisfied: typing-extensions>=3.6.4; python_version < \"3.8\" in /usr/local/lib/python3.7/dist-packages (from importlib-metadata>=0.20; python_version < \"3.8\"->catalogue<1.1.0,>=0.0.7->spacy>=2.2.2->texthero) (3.7.4.3)\n",
            "Requirement already satisfied: zipp>=0.5 in /usr/local/lib/python3.7/dist-packages (from importlib-metadata>=0.20; python_version < \"3.8\"->catalogue<1.1.0,>=0.0.7->spacy>=2.2.2->texthero) (3.4.0)\n",
            "Building wheels for collected packages: nltk\n",
            "  Building wheel for nltk (setup.py) ... \u001b[?25l\u001b[?25hdone\n",
            "  Created wheel for nltk: filename=nltk-3.5-cp37-none-any.whl size=1434676 sha256=e328f26b1e2bdebeb2b798a1a71485ffaa70dae7262542610471d10b360c6c5d\n",
            "  Stored in directory: /root/.cache/pip/wheels/ae/8c/3f/b1fe0ba04555b08b57ab52ab7f86023639a526d8bc8d384306\n",
            "Successfully built nltk\n",
            "Installing collected packages: nltk, unidecode, texthero\n",
            "  Found existing installation: nltk 3.2.5\n",
            "    Uninstalling nltk-3.2.5:\n",
            "      Successfully uninstalled nltk-3.2.5\n",
            "Successfully installed nltk-3.5 texthero-1.0.9 unidecode-1.2.0\n"
          ],
          "name": "stdout"
        },
        {
          "output_type": "display_data",
          "data": {
            "application/vnd.colab-display-data+json": {
              "pip_warning": {
                "packages": [
                  "nltk"
                ]
              }
            }
          },
          "metadata": {
            "tags": []
          }
        }
      ]
    },
    {
      "cell_type": "code",
      "metadata": {
        "colab": {
          "base_uri": "https://localhost:8080/"
        },
        "id": "UpmvuJ4XqsLH",
        "outputId": "6e7f2266-ca2c-4354-b3fe-2ea5b59a0bec"
      },
      "source": [
        "import pandas as pd\r\n",
        "import texthero as th"
      ],
      "execution_count": 1,
      "outputs": [
        {
          "output_type": "stream",
          "text": [
            "[nltk_data] Downloading package stopwords to /root/nltk_data...\n",
            "[nltk_data]   Unzipping corpora/stopwords.zip.\n"
          ],
          "name": "stderr"
        }
      ]
    },
    {
      "cell_type": "code",
      "metadata": {
        "colab": {
          "base_uri": "https://localhost:8080/",
          "height": 111
        },
        "id": "_JoWySvoq77z",
        "outputId": "565d4e8c-e86a-4779-cba5-84497f00e03a"
      },
      "source": [
        "df = pd.read_csv(\r\n",
        "    \"https://github.com/jbesomi/texthero/raw/master/dataset/bbcsport.csv\"\r\n",
        ")\r\n",
        "df.head(2)"
      ],
      "execution_count": 2,
      "outputs": [
        {
          "output_type": "execute_result",
          "data": {
            "text/html": [
              "<div>\n",
              "<style scoped>\n",
              "    .dataframe tbody tr th:only-of-type {\n",
              "        vertical-align: middle;\n",
              "    }\n",
              "\n",
              "    .dataframe tbody tr th {\n",
              "        vertical-align: top;\n",
              "    }\n",
              "\n",
              "    .dataframe thead th {\n",
              "        text-align: right;\n",
              "    }\n",
              "</style>\n",
              "<table border=\"1\" class=\"dataframe\">\n",
              "  <thead>\n",
              "    <tr style=\"text-align: right;\">\n",
              "      <th></th>\n",
              "      <th>text</th>\n",
              "      <th>topic</th>\n",
              "    </tr>\n",
              "  </thead>\n",
              "  <tbody>\n",
              "    <tr>\n",
              "      <th>0</th>\n",
              "      <td>Claxton hunting first major medal\\n\\nBritish h...</td>\n",
              "      <td>athletics</td>\n",
              "    </tr>\n",
              "    <tr>\n",
              "      <th>1</th>\n",
              "      <td>O'Sullivan could run in Worlds\\n\\nSonia O'Sull...</td>\n",
              "      <td>athletics</td>\n",
              "    </tr>\n",
              "  </tbody>\n",
              "</table>\n",
              "</div>"
            ],
            "text/plain": [
              "                                                text      topic\n",
              "0  Claxton hunting first major medal\\n\\nBritish h...  athletics\n",
              "1  O'Sullivan could run in Worlds\\n\\nSonia O'Sull...  athletics"
            ]
          },
          "metadata": {
            "tags": []
          },
          "execution_count": 2
        }
      ]
    },
    {
      "cell_type": "code",
      "metadata": {
        "id": "fKP5vkB1rlJH"
      },
      "source": [
        "df['text_clean'] = th.clean(df['text'])"
      ],
      "execution_count": 3,
      "outputs": []
    },
    {
      "cell_type": "code",
      "metadata": {
        "colab": {
          "base_uri": "https://localhost:8080/",
          "height": 111
        },
        "id": "2HTuFnrerv-8",
        "outputId": "24428cca-5b36-459f-d41f-43a38df43954"
      },
      "source": [
        "df.head(2)"
      ],
      "execution_count": 4,
      "outputs": [
        {
          "output_type": "execute_result",
          "data": {
            "text/html": [
              "<div>\n",
              "<style scoped>\n",
              "    .dataframe tbody tr th:only-of-type {\n",
              "        vertical-align: middle;\n",
              "    }\n",
              "\n",
              "    .dataframe tbody tr th {\n",
              "        vertical-align: top;\n",
              "    }\n",
              "\n",
              "    .dataframe thead th {\n",
              "        text-align: right;\n",
              "    }\n",
              "</style>\n",
              "<table border=\"1\" class=\"dataframe\">\n",
              "  <thead>\n",
              "    <tr style=\"text-align: right;\">\n",
              "      <th></th>\n",
              "      <th>text</th>\n",
              "      <th>topic</th>\n",
              "      <th>text_clean</th>\n",
              "    </tr>\n",
              "  </thead>\n",
              "  <tbody>\n",
              "    <tr>\n",
              "      <th>0</th>\n",
              "      <td>Claxton hunting first major medal\\n\\nBritish h...</td>\n",
              "      <td>athletics</td>\n",
              "      <td>claxton hunting first major medal british hurd...</td>\n",
              "    </tr>\n",
              "    <tr>\n",
              "      <th>1</th>\n",
              "      <td>O'Sullivan could run in Worlds\\n\\nSonia O'Sull...</td>\n",
              "      <td>athletics</td>\n",
              "      <td>sullivan could run worlds sonia sullivan indic...</td>\n",
              "    </tr>\n",
              "  </tbody>\n",
              "</table>\n",
              "</div>"
            ],
            "text/plain": [
              "                                                text  ...                                         text_clean\n",
              "0  Claxton hunting first major medal\\n\\nBritish h...  ...  claxton hunting first major medal british hurd...\n",
              "1  O'Sullivan could run in Worlds\\n\\nSonia O'Sull...  ...  sullivan could run worlds sonia sullivan indic...\n",
              "\n",
              "[2 rows x 3 columns]"
            ]
          },
          "metadata": {
            "tags": []
          },
          "execution_count": 4
        }
      ]
    },
    {
      "cell_type": "code",
      "metadata": {
        "colab": {
          "base_uri": "https://localhost:8080/",
          "height": 111
        },
        "id": "nVqp1h-3rxXe",
        "outputId": "18d1de1d-1bd2-4dba-f53c-6df8d24aec3d"
      },
      "source": [
        "df['tfidf'] = (\r\n",
        "    th.tfidf(df['text_clean'], max_features=100)\r\n",
        ")\r\n",
        "df[[\"tfidf\", \"topic\"]].head(2)\r\n",
        "                        "
      ],
      "execution_count": 8,
      "outputs": [
        {
          "output_type": "execute_result",
          "data": {
            "text/html": [
              "<div>\n",
              "<style scoped>\n",
              "    .dataframe tbody tr th:only-of-type {\n",
              "        vertical-align: middle;\n",
              "    }\n",
              "\n",
              "    .dataframe tbody tr th {\n",
              "        vertical-align: top;\n",
              "    }\n",
              "\n",
              "    .dataframe thead th {\n",
              "        text-align: right;\n",
              "    }\n",
              "</style>\n",
              "<table border=\"1\" class=\"dataframe\">\n",
              "  <thead>\n",
              "    <tr style=\"text-align: right;\">\n",
              "      <th></th>\n",
              "      <th>tfidf</th>\n",
              "      <th>topic</th>\n",
              "    </tr>\n",
              "  </thead>\n",
              "  <tbody>\n",
              "    <tr>\n",
              "      <th>0</th>\n",
              "      <td>[0.0, 0.13194458247285848, 0.0, 0.0, 0.0, 0.0,...</td>\n",
              "      <td>athletics</td>\n",
              "    </tr>\n",
              "    <tr>\n",
              "      <th>1</th>\n",
              "      <td>[0.0, 0.13056235989725676, 0.0, 0.205187581391...</td>\n",
              "      <td>athletics</td>\n",
              "    </tr>\n",
              "  </tbody>\n",
              "</table>\n",
              "</div>"
            ],
            "text/plain": [
              "                                               tfidf      topic\n",
              "0  [0.0, 0.13194458247285848, 0.0, 0.0, 0.0, 0.0,...  athletics\n",
              "1  [0.0, 0.13056235989725676, 0.0, 0.205187581391...  athletics"
            ]
          },
          "metadata": {
            "tags": []
          },
          "execution_count": 8
        }
      ]
    },
    {
      "cell_type": "code",
      "metadata": {
        "colab": {
          "base_uri": "https://localhost:8080/",
          "height": 542
        },
        "id": "_tH0ozxMr5pX",
        "outputId": "baa79da2-4b4d-4954-ab81-a3a5f809c2b8"
      },
      "source": [
        "df['pca'] = th.pca(df['tfidf'])\r\n",
        "th.scatterplot(\r\n",
        "    df, \r\n",
        "    col='pca', \r\n",
        "    color='topic', \r\n",
        "    title=\"PCA BBC Sport news\"\r\n",
        ")"
      ],
      "execution_count": 9,
      "outputs": [
        {
          "output_type": "display_data",
          "data": {
            "text/html": [
              "<html>\n",
              "<head><meta charset=\"utf-8\" /></head>\n",
              "<body>\n",
              "    <div>\n",
              "            <script src=\"https://cdnjs.cloudflare.com/ajax/libs/mathjax/2.7.5/MathJax.js?config=TeX-AMS-MML_SVG\"></script><script type=\"text/javascript\">if (window.MathJax) {MathJax.Hub.Config({SVG: {font: \"STIX-Web\"}});}</script>\n",
              "                <script type=\"text/javascript\">window.PlotlyConfig = {MathJaxConfig: 'local'};</script>\n",
              "        <script src=\"https://cdn.plot.ly/plotly-latest.min.js\"></script>    \n",
              "            <div id=\"e9157df5-7f54-4fae-a440-81787472c2f3\" class=\"plotly-graph-div\" style=\"height:525px; width:100%;\"></div>\n",
              "            <script type=\"text/javascript\">\n",
              "                \n",
              "                    window.PLOTLYENV=window.PLOTLYENV || {};\n",
              "                    \n",
              "                if (document.getElementById(\"e9157df5-7f54-4fae-a440-81787472c2f3\")) {\n",
              "                    Plotly.newPlot(\n",
              "                        'e9157df5-7f54-4fae-a440-81787472c2f3',\n",
              "                        [{\"hoverlabel\": {\"namelength\": 0}, \"hovertemplate\": \"topic=athletics<br>x=%{x}<br>y=%{y}\", \"legendgroup\": \"topic=athletics\", \"marker\": {\"color\": \"#636efa\", \"symbol\": \"circle\"}, \"mode\": \"markers\", \"name\": \"topic=athletics\", \"showlegend\": true, \"type\": \"scatter\", \"x\": [0.021879866084772128, -0.10792200466090852, 0.04744975076795694, 0.025442537424147108, -0.018401030272780877, -0.007713525661869389, -0.07281182384525003, 0.07180450751724547, 0.0010222971604384869, 0.02809160398738509, 0.05807579926088715, 0.043599940845024554, 0.02033332168108851, 0.041638033386490525, -0.03049202851975284, -0.08847510909820813, 0.03352990235513916, -0.04659680805443714, 0.03505855577483577, 0.043599940845024554, -0.0008203711567603472, 0.01853704376254318, 0.046735531876152765, -0.010910455028724751, 0.014348938171184078, -0.03295733234788877, -0.02155676473797088, 0.09857449814084147, 0.01761975169592442, -0.017426334524406638, -0.027412934067367906, 0.02062951490079147, 0.07089202696152493, 0.07025128469897787, -0.03226402822185223, -0.0402894570912742, 0.0292629874857553, 0.0799304681568064, -0.05499525268507023, 0.030151790141765847, 0.04095877807559834, -0.005267304374766744, -0.07509539759053356, 0.05612383591419529, 0.023655704355994758, 0.11895964907747301, -0.07996377176170749, -0.011254605752285972, -0.06660051006314514, -0.115155368849717, -0.13938648905486326, -0.05038589353534132, 0.0073641195877370575, 0.04133587905951228, -0.010474893294926926, 0.07253141634653061, 0.06727657038537435, -0.008796412961104677, 0.09350786060320929, -0.03482543742999345, -0.045360576983329126, -0.051636466061187034, 0.07512106604440927, -0.05038524672226828, 0.02986441452451232, -0.036554990207889604, 0.045932387857200725, -0.055332016348612706, 0.015951347774617534, 0.08456070156560103, 0.03866477752801586, -0.0036297641274910713, 0.09710633834150459, 0.06568550009249065, -0.1059871015625321, -0.027454583069025897, -0.2658177847800503, 0.01059778200341246, -0.04050830589698339, -0.05661899474365893, -0.039952873919552864, -0.1563758335761818, -0.11294565537070124, -0.05038589353534132, 0.05328184381364935, 0.006880210330345056, -0.003896501397479366, -0.06660051006314514, -0.03905217270394704, 0.0651103543017858, -0.010693110854168856, 0.1451836475717091, -0.04447594663553175, 0.05021268740936458, 0.03259409913556195, 0.07759494326047002, 0.02215022601279026, 0.05154209147831345, 0.10412183274815202, 0.15459151760436537, 0.0048597076433965995], \"xaxis\": \"x\", \"y\": [-0.25532051198910716, 0.012968304114589501, -0.2445544939872538, -0.22800225711908198, -0.21523986637405795, -0.2085017848441557, -0.15644695177326073, -0.10176584221097557, -0.29676248548543854, -0.30520273094052863, -0.06297334531436762, -0.31440080622133837, -0.2051384502054709, -0.15084522003877213, -0.20964259458589954, -0.28315881926457387, -0.13589656901023026, -0.22963853910079815, -0.3194051504041422, -0.31440080622133837, -0.2834156662147351, -0.09239143464457604, -0.15632232007126698, -0.25521744535585317, -0.3225887258961702, -0.2660544969937458, -0.30125162320526955, -0.13857806116712865, -0.29858851627520594, -0.18616399689173582, -0.07656992813011887, -0.3228759109883119, -0.11293301712555438, -0.17281113332120543, -0.33917944947460493, -0.035850290176599124, -0.22055724758712505, -0.18097584929775712, -0.00017704581295565703, -0.1736811669985448, -0.21192748245552614, -0.2509160790909863, 0.016771597090998097, -0.21241168714145905, -0.25311339346465134, -0.1281580083086438, -0.13033365662095314, -0.1657931262259825, 0.03300310549228, -0.19817364320406997, -0.10456994867338316, -0.046656118874936536, -0.24054360634178928, -0.19576022027935375, -0.14492608421771033, -0.13211911986398822, -0.1642448166871226, -0.3433446930391044, -0.11850020887801399, -0.170719827595229, -0.2524725640339379, 0.06232075028957366, -0.17466437555861045, -0.28608050982255706, -0.3005464730110256, -0.28215604418916235, -0.2938150300634973, -0.009341457940965936, -0.35431341387287885, -0.1452661773214075, -0.16120076854600246, -0.022648927945158333, -0.17969214406364215, -0.13448487192778075, -0.22016951647651303, -0.331911816520912, 0.22510070057948928, -0.2492091765226449, -0.09391174805241112, -0.06392361972509045, -0.2558332175557118, -0.12302185111307677, -0.2613418978425013, -0.046656118874936536, -0.2720603224623233, -0.24414715416397473, -0.15940846832684072, 0.03300310549228, -0.1897112702912186, -0.16672097773831004, -0.05314343859013451, -0.07768130252945481, 0.03061995563691623, -0.1671952741825692, -0.2411156152020193, -0.2691688335576681, -0.09812608653211673, -0.17695196373976826, -0.1999218864335982, -0.025259639527072972, -0.13145205677757812], \"yaxis\": \"y\"}, {\"hoverlabel\": {\"namelength\": 0}, \"hovertemplate\": \"topic=cricket<br>x=%{x}<br>y=%{y}\", \"legendgroup\": \"topic=cricket\", \"marker\": {\"color\": \"#EF553B\", \"symbol\": \"circle\"}, \"mode\": \"markers\", \"name\": \"topic=cricket\", \"showlegend\": true, \"type\": \"scatter\", \"x\": [-0.21936198878300514, -0.2930097681912343, -0.3170853942025481, -0.2527319708914045, -0.2694345495431826, -0.34399295075238906, -0.20093595074901624, -0.1799584626977241, -0.2987577588275174, -0.16929059697996002, -0.23085600208770643, -0.18974831267789638, -0.39381067867499414, -0.11645504054285792, -0.22463797349046338, -0.0843970727537526, -0.12086032619839321, -0.22694637111238436, -0.26855109379766073, -0.33430602295165385, -0.12086032619839321, -0.25874569830099403, -0.19651747001151812, -0.21082025778044972, -0.31566936302755894, -0.26499234874520317, -0.27589872189528564, -0.32374692762826046, -0.19651747001151812, -0.3069076065369953, -0.2893782902853998, -0.21082025778044972, -0.31566936302755894, -0.25366656587222336, -0.3291759105097214, -0.27328942985252763, -0.13009719245609172, -0.11826202060621639, -0.1930595295856644, -0.2756754223459375, -0.2126326989085766, -0.26871957220197457, -0.23569812735107437, -0.3383661494061692, -0.30996425486465595, -0.2110881623284741, -0.18547859429421387, -0.2839461026630597, -0.2698872903480533, -0.31076879594278545, -0.053764716355325336, -0.3159021983724008, -0.3159021983724008, -0.2709265810002234, -0.2420840962982153, -0.21445466192896234, -0.2806583500680012, -0.1807742270224413, -0.2101357568956403, -0.18504597206389817, -0.18504597206389817, -0.29846272671855106, -0.2974503824830483, -0.328379451492972, -0.20343757727529738, -0.3469127369648378, -0.31023421170165927, -0.41576551960733693, -0.37333864603735867, -0.29304475885603437, -0.37574864580341, -0.31426024734154445, -0.4206523676018085, -0.24684934348133847, -0.38282009308450776, -0.36258203041616005, -0.24521868589089796, -0.21892552844352514, -0.3182424346566554, -0.278312299046671, -0.27115309691238876, -0.30055202404045106, -0.4317446931242221, -0.42160572984711453, -0.22824323809364752, -0.27172226412382466, -0.29314905478429143, -0.30357449193523833, -0.25456714875162423, -0.25519750300974847, -0.12229162710546018, -0.3121613338357098, -0.32448665046246505, -0.1399156584828156, -0.2817913903016201, -0.4222320335178422, -0.2903955950005687, -0.23551595144482665, -0.14197378681279807, -0.2805126045777581, -0.1874042796030738, -0.08983176762215977, -0.23564668507708245, -0.04346652454059343, -0.09164024647524949, -0.1587234140529819, -0.3238602404475254, -0.10608218460796395, -0.37647584992084326, -0.31590088713574077, -0.2475279951495047, -0.02459827998876208, -0.276567069339867, -0.2139847446273921, -0.24477860202836602, -0.03394645404927729, -0.40875149298251173, -0.343231382288852, -0.37204211902227446, -0.195374732069358, -0.23977478341156483, -0.23221622731717811, -0.19162843820614833, -0.15504225767262014], \"xaxis\": \"x\", \"y\": [-0.12529531290307278, 0.1305335938970595, -0.005622602267118336, -0.10290457474196722, 0.23840058084944196, 0.20285483461125917, -0.07944781392264359, -0.1092890205317842, -0.19072037065067451, -0.07072751638661967, -0.1154369606353747, 0.10398963689414105, 0.043595054240513326, 0.08400256019134436, -0.15631792320167404, -0.010515829869377163, -0.055602979682811096, -0.052087762476613717, -0.06180804544074633, 0.08608566402573957, -0.055602979682811096, -0.1504028550315392, -0.14563113194425512, -0.18461315105479845, -0.2036424395862015, -0.057906399482173604, 0.042242588247505396, -0.1562435419253393, -0.14563113194425512, 0.06429945935954484, -0.009160527544385351, -0.18461315105479845, -0.2036424395862015, -0.15066127540472768, -0.040046186538896196, -0.030111711848076986, -0.0625753478453292, -0.11168331882390692, -0.1400723310580271, 0.07729852245885818, -0.1750020684042865, 0.23345844559434364, 0.005673479377319559, -0.22459179165290796, -0.15646222627132936, -0.17080082609977826, -0.024635056030877362, 0.03089068033943681, -0.11563146046292744, 0.09641503803850825, -0.14526552099870085, 0.047538935390650676, 0.047538935390650676, -0.09631218215765087, -0.1710369609948107, -0.0023466222606667096, -0.0829810722839835, -0.07081800112715433, -0.19730843274083562, -0.14474676417985363, -0.14474676417985363, -0.1059821213433181, 0.10526695190536055, 0.17702161277542802, -0.17676673350049424, -0.1161344129998088, 0.10062054021003719, 0.157725695044862, 0.08770786853819504, -0.0943414538916413, 0.2276615746201865, -0.0999747069788522, 0.14872693408369936, -0.16582133770191032, 0.17283509804015837, 0.09301362897832345, -0.10887654458256768, 0.002357846825074266, 0.13234264448936275, 0.10990042704914627, -0.15812577384490878, -0.13002683406757487, 0.21850270503241573, 0.22451263962556883, -0.07147180012085397, -0.1794719832917935, -0.19925465596348477, -0.19961513148814478, 0.08521946112508642, -0.12474417130828674, -0.13223050936356237, -0.032784061976516586, -0.01061794744417191, 0.09247173798662812, -0.005962874627668209, 0.03593918498587576, 0.2875502804149957, -0.0626608317601749, -0.06058941604116491, -0.08532024482645302, -0.057769913045157426, -0.07851088704466883, -0.019639020299120746, -0.09440562272752427, -0.09549459389522447, -0.07602129301072948, 0.14670869280824894, -0.005955476933487652, 0.21644054750351122, -0.0915640880445263, -0.13088205417792423, -0.1417606347091591, -0.12566893197806173, -0.16799201725623503, -0.17584694202504436, 0.05188424304084407, 0.1313222515200289, 0.11592445282614668, 0.2818224265170566, -0.09293815559591175, -0.0539809593821717, -0.019279120323874827, 0.05824429148076861, 0.04945825921216857], \"yaxis\": \"y\"}, {\"hoverlabel\": {\"namelength\": 0}, \"hovertemplate\": \"topic=football<br>x=%{x}<br>y=%{y}\", \"legendgroup\": \"topic=football\", \"marker\": {\"color\": \"#00cc96\", \"symbol\": \"circle\"}, \"mode\": \"markers\", \"name\": \"topic=football\", \"showlegend\": true, \"type\": \"scatter\", \"x\": [0.18305542763406962, 0.2720711766234568, 0.29277952044364564, 0.31812192191931904, -0.07810118208391738, 0.08350265745846201, 0.24698823834334158, 0.3976802696397977, 0.1762356010213457, 0.3114538086496202, -0.07438718846676695, -0.025755908541469044, 0.12517990551673824, -0.05134719044254928, 0.004556263452878384, 0.12076012558646287, 0.2795943410515867, 0.38391669825645347, -0.03464261339702293, 0.11532777189172409, 0.12061239941646851, 0.10834335664465901, 0.06206946436533111, 0.3186957865278759, 0.12611717352366475, -0.16518051584408022, 0.38391669825645347, 0.33112241218265337, -0.08007461420719542, 0.37095153283933013, 0.420857099119308, 0.31867163809007565, 0.06260867076219642, 0.053953158169923146, -0.11247290590364362, 0.1888814465567199, 0.17609910433159742, 0.019644255430203282, 0.016432073632006872, -0.14155946352228782, 0.19059517942817236, 0.14626447517560662, 0.2544818461790025, 0.1865454444577395, 0.24936669632114575, 0.3402804434124987, 0.2863097485706046, -0.00600153354372668, 0.12471631913697297, 0.23442078613239067, 0.015296388342727072, -0.05396165247170075, 0.04857030070682579, 0.3169122302309425, 0.12016624329846537, 0.12846526269296762, 0.049612385128673185, 0.25412853167561916, 0.31834498383281284, 0.35442111748184363, 0.1642227975303585, 0.17908181789683897, 0.2996772569061224, 0.34676593418217483, 0.41296134891166103, 0.28346338731523135, 0.26520478057261826, 0.13049630106583107, 0.26519749607149473, 0.17408122541017634, 0.2547267930977285, 0.1746196575602735, 0.35086168685681246, 0.4683395450291367, 0.48908334634443024, 0.2858239013124766, 0.1453268333590098, 0.12919368824133542, -0.09334409822844371, 0.24898826941692567, 0.3267767037560642, 0.1470434692743353, 0.44928690756539036, 0.22257912031519977, 0.10040452474996639, 0.15990496715722738, 0.40337326421049025, 0.40337326421049025, 0.349861403329104, 0.46591145849740634, 0.07079425949256325, 0.32755182383558296, 0.2890026434741718, 0.39964824297258483, 0.1679830720851238, -0.18796509949357904, 0.07233404927175002, 0.418497903334307, 0.22146517969173973, 0.22144908583975592, 0.23709426694882288, 0.35132752890314906, 0.4297879130060546, 0.37779823267422136, 0.3735245786575148, 0.23255355065014718, 0.44586860791320165, 0.20544530452513196, 0.36784436140930543, 0.0645322742928676, 0.46152819328254746, 0.33503838999861096, 0.14274322603221165, 0.28738735033355023, 0.4616026756827512, 0.09841045089668013, 0.3220033781041468, 0.22559985088850726, -0.007287785992815731, -0.04449281727219178, -0.024695815451735582, -0.0268916168305465, 0.08276772702697616, 0.4945089352809485, -0.08439200848140924, 0.21161362947287024, 0.1501601194901282, 0.056738707838352186, 0.20668838784646887, 0.05003102759321411, 0.03488884414811475, 0.14806345952508243, 0.31962974649358067, 0.2940161506845166, 0.1639471615186455, 0.15370004589906383, 0.19366478444998217, 0.08852023054831229, 0.16298814418423593, 0.17488266534867966, 0.34490166186139626, 0.19423409827935934, 0.33576085321162, 0.18867718545600565, 0.4056559848117921, 0.023070850433655764, 0.10271215861093216, 0.2810652079060647, 0.3867591744574617, 0.2031292893008661, -0.025183482514183585, 0.39112902642375574, 0.012182332202191165, 0.41311208134977845, 0.32548897183570935, 0.08863495855101408, 0.4105185858788167, 0.5315597580939796, 0.1689209473307109, 0.3347388178581161, 0.5315597580939796, 0.17635280715116755, 0.11792795856079813, 0.11792795856079813, 0.2069191285582194, 0.2649859753700939, 0.09353564378171647, 0.10310495007258906, 0.08079852094249068, 0.11549489849167696, 0.22204585867181925, 0.29893226840510173, 0.27576561280969314, 0.1288016395635354, 0.10785170679656464, 0.2171149546422999, 0.2136537938461349, 0.2725158344092612, 0.1651537451216537, 0.346452111943458, 0.11620091958041504, 0.23331117761243966, 0.08790114208358984, 0.2501910883174879, 0.36053800145838494, 0.3393860425250523, 0.1904096794141083, 0.3819144814370433, 0.19714903129945718, 0.3931546634554755, 0.29945022749723904, 0.350737920745798, 0.19674083778092794, 0.26325030118747755, 0.16311850705976552, -0.060315229409838404, 0.09548449429677493, 0.30385227067488296, 0.18966130659134056, 0.1294186498317632, 0.06258062389731628, 0.4417465039147119, 0.15175044639562046, 0.23774702302170275, 0.17586597832603892, 0.10472409755658171, 0.5205545235918368, 0.164938878606775, 0.451159735900058, 0.29277952044364564, 0.10117081380717903, 0.1904281847626689, 0.08647896850673123, 0.1537186079929213, 0.4812424200125789, 0.22467156976041555, 0.09343383494797411, 0.18454653656915201, -0.027917883774362495, -0.019854746100417948, 0.290156545002825, -0.16738437410455315, 0.33952008759089114, 0.018920854688914066, 0.13524970939965586, 0.34416427051350346, 0.06825311257608274, 0.19769878092127374, 0.5021368075300798, 0.33418034251917483, 0.08758569731336131, 0.34215703148974136, 0.257158679018338, 0.29595602384846315, 0.2183518225051332, 0.08826109849107544, 0.37508416920735865, 0.21310260636277706, 0.557766683226404, 0.4151396648067175, 0.2772725766562052, 0.31396917618411657, 0.4572512589822829, 0.19486446793947934, 0.42040219922770283, 0.31265568815845673, 0.01307099842938679, 0.1761532466553777, 0.10852060505426707, 0.26288154161866734, 0.23100867528129995, 0.3801236221180568, 0.3270336743226372, -0.01887031860143604, 0.15510273258466603, 0.17542516863714408, 0.3507206818560715, 0.06611531031388793, 0.13918487336268512, 0.2946661234100837, 0.09882607160894881, 0.27507492745653883, 0.25347985889371094, 0.039411091876011585, -0.011074501129207485], \"xaxis\": \"x\", \"y\": [0.11193294107982184, 0.028662154164759847, 0.07007530640435305, 0.048684104734280656, 0.11883490512888348, 0.011011495712173847, 0.04708430347338756, 0.10477797676936096, 0.04638600519802349, 0.16009931535277458, 0.026039467313471464, -0.004937178920938064, 0.06591018170631581, 0.03922204974609761, 0.0302379850799452, 0.07913951865960112, 0.16568214232192166, 0.10410739727990333, 0.09166000279742514, -0.034993364649373936, 0.19791773990790862, -0.0015768731773731196, -0.010151266367558424, 0.11927453865353316, 0.11022303844266285, 0.1484644083908843, 0.10410739727990333, 0.10273476841891757, 0.3428654340311404, 0.11875016194072731, 0.28966352494224445, 0.09607534435378778, 0.040093607650950755, -0.019541041387694715, 0.25879701546220063, -0.026686177875722143, 0.00474196797755521, -0.10884228817390941, 0.12792301758351377, 0.19540088040592954, 0.1304353872119145, -0.03170839078742175, 0.06499688684402394, -0.01324967262815353, 0.18167285105402356, 0.1369496663432081, 0.07337253377432483, 0.18830220201053002, 0.08075043650167002, -0.010247599461284434, -0.035910882607314204, -0.014026514650282514, -0.0504986603408685, 0.046095012911304335, -0.011879809964173612, -0.034326478766198945, 0.0071480449509862595, -0.034733931824096294, 0.04804023023169914, 0.10093617215151392, -0.010824658088094196, 0.05595415491986258, 0.061368357376083364, 0.07987654104793188, 0.11362428017893249, 0.18738689398936526, 0.06256115060790438, 0.18397615735000578, 0.09647268466280172, 0.10065056260550848, 0.0756936018418872, -0.0184621355712051, 0.07944006470139338, 0.14482542568570722, 0.1702730257594678, -0.016059874222447604, -0.01270131225347278, -0.02261312716252463, -0.12638414358431851, -0.10643487449128804, 0.04707992937522746, 0.02996604564850966, 0.13597608349814877, 0.017922816609615404, -0.048290846633969944, -0.0198939172492831, 0.07283144909574837, 0.07283144909574837, 0.08006608853858141, 0.1599254010570629, 0.050027867785170224, 0.10892403588505006, 0.12521677863268477, 0.07470730089861048, -0.018189443958415888, -0.22228528542551199, 0.010369672883869413, 0.13189198690753776, 0.03214678852885347, 0.046311211374310386, 0.05078081499756001, 0.12821114688257892, 0.09685907926182763, 0.1135025484537871, 0.15992082581234385, 0.13675174414388408, 0.20065839905056343, 0.10519970559330889, 0.19012301846801102, 0.010808773052672064, 0.17751599318912584, 0.0826030856167005, 0.06497335060582438, 0.03722525763780308, 0.16552053579577933, 0.035807002808265195, 0.1327539948093921, -0.006465588533439777, -0.07142569859733092, 0.015236463276418257, -0.15083772265801995, 0.38377779298556364, 0.014520201623105158, 0.14286556493558675, -0.13988021706130274, 0.08758864111483719, -0.023106720744546977, -0.06883972749103827, 0.03519780792722331, -0.00901784945075774, -0.0460176261803926, 0.24586168477754142, 0.025678316122845896, 0.18371086031785994, -0.009055251632512524, 0.08869094969109198, 0.03602755339536646, 0.1750954739370915, -0.020836601381219042, 0.03809691048494514, 0.22437650442886092, 0.10811755763806011, 0.1765122824557017, 0.04216846373903253, 0.1877735256481435, 0.11015091213256142, -0.15529105839501456, 0.08357564548953696, 0.07907545569491167, 0.09619472454487632, -0.09194610298999775, 0.14721105014801056, -0.01810875351520224, 0.12643581901622838, -0.010509581297146738, 0.00016593189785359816, 0.12162472812074743, 0.2261702585334772, 0.018809330013519053, 0.15633725769863244, 0.2261702585334772, 0.0427437486508055, 0.22273703534710526, 0.22273703534710526, 0.06369152754490767, 0.16542772373730427, -0.12603693118103446, -0.08256434170548779, 0.05678498234444681, -0.09734218722440646, -0.04154346930878345, 0.07435548531276759, 0.11148412943541627, 0.12708127471907418, 0.054778153246136184, 0.09270229904036331, -0.11095253907295492, 0.060264420387820324, 0.07884604800003117, 0.17933450037400875, 0.02639125020940885, 0.027926260347298937, 0.02295436249714244, 0.14931832808960127, 0.04477140446705787, 0.08085862492873472, 0.057327463896145826, 0.13757485644368464, 0.05049423270107419, 0.12004733807133293, 0.03933098321579877, 0.16232591861224702, 0.24224757533332913, 0.10232987976050457, 0.042583543773615076, 0.0656403640123844, 0.08244167356812299, 0.023569000781848586, 0.21767470911848438, 0.20013031409266016, 0.14502763488106563, 0.16479684995370966, 0.2759947520694975, 0.08559886519749058, 0.05787814075874244, -0.10943056821798551, 0.12072606983207249, 0.05075673137571903, 0.09630331612441523, 0.07007530640435305, 0.07639495406136679, 0.10215786942630517, -0.04654267160127441, 0.08980086507307133, 0.17082912922884472, -0.04318312951735928, 0.13487536058425142, 0.1112513242895449, -0.04056169147022373, -0.05452823666556468, 0.05547314286092018, 0.11607065298054176, 0.01888803151240069, -0.08591316809274789, -0.012678881614423335, 0.13916585781530716, -0.061809454776940734, -0.036410516245752346, 0.20555150252399146, 0.09267051768054806, -0.21718634303510156, 0.08914857506608345, -0.032443072847836485, 0.19184740070038742, -0.004652123345890264, 0.15364192641938199, 0.15796249521862657, 0.049242846591843754, 0.24949870238937913, 0.29713451433661797, 0.062243692649083256, 0.08420676606969005, 0.20585955293779354, 0.07522047431731135, 0.076456821282281, 0.0748187606194409, 0.04143358204853231, -0.022493110863412383, 0.08051027422189441, -0.014815000778309762, 0.07566352041137309, 0.10800859185952677, 0.10405496086435871, 0.03328254148244507, 0.002945039474447132, -0.053781261791174394, 0.12099167189933205, -0.023263364952858172, 0.0578473305084609, 0.14277378192268714, 0.05484789436770154, 0.061231405031532765, 0.01560161932291777, -0.0631391085979354, -0.016138816479474866], \"yaxis\": \"y\"}, {\"hoverlabel\": {\"namelength\": 0}, \"hovertemplate\": \"topic=rugby<br>x=%{x}<br>y=%{y}\", \"legendgroup\": \"topic=rugby\", \"marker\": {\"color\": \"#ab63fa\", \"symbol\": \"circle\"}, \"mode\": \"markers\", \"name\": \"topic=rugby\", \"showlegend\": true, \"type\": \"scatter\", \"x\": [-0.17381335820592403, -0.3067632279597182, -0.22764842658187165, -0.11377219881452486, -0.06660858181054607, -0.21897855612647932, -0.24971265402867732, -0.2028701143491719, -0.13035614337409857, -0.2007178987272095, 0.056247249712103785, -0.07845579731469243, -0.18971106177552902, -0.1183445758758372, -0.13041691230809108, -0.3387452073740825, -0.34604886295299103, -0.09023843631216576, -0.20434131464483105, -0.22230434593770182, -0.27012209723072744, -0.1968964509706278, -0.09408934986685956, -0.22133692105017072, -0.1013655453131233, -0.0009603270953103078, -0.2000237088626402, -0.2084662379474753, -0.2717324133493341, -0.2117830699165165, -0.20758732413324668, -0.3610967548396276, -0.06456246030686423, -0.010033316856337224, -0.057339179968493574, -0.11226369851252885, -0.20486340655991797, 0.005698473442141545, -0.22295442743296545, -0.28506906209885435, -0.015835532040184477, -0.1375464243716043, -0.22388685552555526, -0.15784657164504903, -0.21465524154325216, -0.21465524154325216, -0.3245166540403616, -0.33980248931314827, -0.26284318628774417, -0.22559356056820062, -0.2519813439030017, -0.1852991012878272, -0.24062336617686042, -0.15795403892586427, -0.13316062529007994, -0.3081276142483371, -0.2926207277874366, -0.17303243587067074, -0.2760075589701583, -0.2953286612946242, -0.26284318628774417, -0.19430363973808, -0.1218276403779628, -0.209257794574788, -0.20636398935471081, -0.24119955343087138, 0.07447797086805939, -0.3257474669866523, -0.24036674750992398, -0.035499198650543316, -0.0996519811691995, -0.18733417393657384, -0.20201435470417908, -0.11393134575752431, -0.07834862380888225, -0.07784312161736191, -0.03186090920598804, 0.06969101086501729, -0.15853217547662263, -0.021783267539470547, -0.16231224692257065, 0.004424208451736747, -0.10676203751803985, -0.16311377146283984, -0.35078292672835276, -0.21914388567201315, -0.15830107535906515, -0.2171949430133599, 0.08870649969931163, -0.3397649460780526, -0.04319954422563923, -0.3049018193147071, 0.04709150589602704, -0.24313772913555323, -0.18130579027931437, -0.054012545987844156, -0.15394358043687298, -0.2544481655545688, -0.10047613208632017, -0.15369457310926063, -0.00980683265751217, -0.13748156133212697, 0.0009279898105760414, -0.13748156133212697, -0.19718674275403913, -0.17171576402988925, -0.09403389281893348, -0.08675200497191447, -0.21115694770216614, 0.0033393070379147123, 0.0383535042171658, 0.21430511872752386, 0.2065250026050781, 0.0022700852571553316, -0.1605521108084649, 0.20061573012177067, -0.2966926539399969, -0.040358827976171276, -0.01644015361713714, 0.1615566287505244, -0.2227626311680129, -0.2441480222634007, -0.17637037217385082, 0.11645213996925875, 0.11769556303484707, 0.18625436999432396, -0.3228090513415326, -0.24462243054088198, -0.29912044831424, -0.35500290395665457, -0.2560764790165502, -0.3322455210316568, -0.21486174839178931, -0.14450720644275641, -0.1852991012878272, -0.23939065534559759, -0.16606598063968672, -0.06510204761880783, -0.24793509881572992, -0.14033043073154863, -0.31433444143996897, -0.17465075448244644, -0.27259777920219613, -0.15176476419292612, -0.2183123873302421, -0.06672544595888617, -0.18770633705968992], \"xaxis\": \"x\", \"y\": [0.2504392935653546, 0.449924916524019, 0.3076030909257558, 0.08897256023032772, 0.1552015890906819, 0.31996694786886004, 0.3000158446267992, 0.3020571552705977, 0.2536654937684056, 0.12855784731958056, 0.07748436784256146, 0.20827699132866004, 0.2989717874025071, 0.2205207910708832, 0.09265869271793364, 0.34221849901256984, 0.4891557817538901, 0.10573580361521492, 0.13061728210016832, 0.2773459260760639, 0.417385803836391, 0.30295146894922814, 0.1690294846187005, 0.27692921655790037, 0.26199894832064863, 0.06291820082122918, 0.23311037064402548, 0.21597040885829522, 0.2764811738385155, 0.2780964429323653, 0.12059490165322073, 0.5156517410166261, 0.34115671576213935, -0.02801584071219811, 0.0876242336187945, 0.12818036335303962, 0.28475602824663226, 0.14044742107455868, 0.11572150045176426, 0.4361100783720165, 0.05589733957293156, 0.0702438139038666, 0.28528166030411384, 0.27833026244627784, 0.16119754827864458, 0.16119754827864458, 0.4683099818527875, 0.48677493516939063, 0.33967729502712574, 0.25060883207336265, 0.32446766581596675, 0.14400475227211998, 0.349273705457837, 0.16295492479614462, 0.16627364344283568, 0.34974770111895886, 0.36164937016516147, 0.1830140651417285, 0.40741323898638404, 0.4119184710084291, 0.33967729502712574, 0.09512283429787619, 0.2930913745451281, 0.3049612164727831, 0.19564394304822197, 0.31956446385311127, 0.057778126249134774, 0.3969234613312766, 0.21805159551363693, 0.01707059170670915, 0.2581215380517684, 0.27736550151514155, 0.33311694522650703, 0.4513717513194604, 0.36184428290931087, 0.24987750324143565, 0.25737129733188463, 0.02802834937421077, 0.29476086898787773, 0.20228586246152006, 0.13137170365901787, 0.21519602781420852, -0.009413734805338964, 0.10445998397603348, 0.1791593853606227, 0.22322833622562602, 0.15220784490369227, 0.17255309987475745, 0.1366089384135138, 0.36347274686604736, 0.08802542781352583, 0.345229625949021, -0.016811155392514255, 0.18038933928184175, 0.0874809945514654, 0.12879902491236875, 0.1018009534673754, 0.2122806834535661, -0.0005922761054146453, 0.2737182208148476, -0.11645104109588764, 0.15992030589656772, -0.02590728204958338, 0.15992030589656772, 0.09660108614375335, 0.18589406820106028, 0.05816622903004648, 0.1706799081411656, -0.028487859032525688, 0.011554733306228707, -0.032684172106903615, -0.013120393221650792, -0.004545708985077612, 0.03510600231503681, 0.32654376856495404, 0.044973868857549615, 0.3476659918797129, 0.010661028918646792, 0.25401068163083834, 0.17256095696515875, 0.2494022443861553, 0.22802100060658387, 0.1051505123961325, -0.00183622334787792, 0.19830808059613111, 0.1582739316638365, 0.2886406168221897, 0.30842710167994225, 0.20046538140968223, 0.41748047179959075, 0.3524135311917923, 0.4047099661051624, 0.31343514062708205, 0.036862554482277175, 0.14400475227211998, 0.3415751751595266, 0.1201371808127951, 0.164753639043888, 0.31971911130096287, 0.28248669926222003, 0.31490727637991184, 0.3529229284138004, 0.28048210380151123, 0.17823820145148783, 0.13651889427400016, 0.040106764394754364, 0.11559045923784506], \"yaxis\": \"y\"}, {\"hoverlabel\": {\"namelength\": 0}, \"hovertemplate\": \"topic=tennis<br>x=%{x}<br>y=%{y}\", \"legendgroup\": \"topic=tennis\", \"marker\": {\"color\": \"#FFA15A\", \"symbol\": \"circle\"}, \"mode\": \"markers\", \"name\": \"topic=tennis\", \"showlegend\": true, \"type\": \"scatter\", \"x\": [-0.10207809081768196, -0.13391096949124157, 0.03148935187242143, -0.05784438744384583, -0.10549065138081687, -0.036313971177321984, 0.056865660713206374, -0.10879720603897551, -0.04150162383483061, -0.03744682164182207, -0.017269948279093967, 0.06955403443035184, -0.10017181213171207, -0.09499069269120466, -0.09497965328120186, -0.03744682164182207, 0.06558044821073683, 0.06955403443035184, -0.011207103187004864, -0.08209243265612078, -0.09781693262545285, 0.03471032078075468, 0.04176611611881926, 0.004434945026191314, 0.04209659856056325, -0.08690721827119831, -0.07371305654922103, -0.030570825033000532, 0.09162567708684728, -0.07303917184428398, 0.0014292351892572553, 0.07597711360492006, -0.017833236162695335, -0.01857015147195029, 0.01973391382124337, -0.06976289982516279, -0.0814988505404645, -0.011051154430774675, -0.14640374629992828, 0.08014763360965134, 0.06923365731032487, -0.01761939301283158, -0.04401043414372365, 0.16708775678733664, -0.0650413509444634, -0.019623145026682127, -0.05963646664273602, -0.06467241413032568, 0.0480121785927053, 0.0480121785927053, -0.05236652219341315, 0.04693960289057697, 0.003351927317443626, -0.016777173892867796, -0.026067685377996003, -0.10353890039456533, -0.042200543947116136, 0.018226221447284478, 0.01744948554458037, -0.049533320658523096, 0.018719066579659122, 0.06801299887003665, -0.09382591770487132, -0.012126603682973091, -0.06426409900686976, -0.04464674095530819, 0.06504446377435123, -0.016899905418814837, 0.02873476160112972, 0.02873476160112972, -0.09154057367147579, 0.05140951857593349, 0.08099416744924301, -0.020032673772109096, 0.021368950046943547, 0.04658986059252643, 0.02038932526115709, -0.02542725784876972, 0.09970267020564622, 0.12928463900323364, -0.050864248267769696, 0.06836253415948891, 0.024807871459110845, 0.013776238947082346, -0.04355491185206922, -0.15840273480487485, -0.0035483942572880974, -0.0997488422712766, 0.056865660713206374, -0.0807600973299526, -0.030437715291605022, -0.06245860404745078, -0.12618639931245, 0.014349120280160202, -0.10069626726102593, -0.0393451556856077, -0.0413237186768201, -0.05540052788068677, 0.1117649369235766, -0.08883533129425807], \"xaxis\": \"x\", \"y\": [-0.2439125751099795, -0.3673651030584261, -0.3190982206197227, -0.35116587834834384, -0.37925567353974365, -0.36356530902305073, -0.14681133633761478, -0.3637279101400953, -0.3921680699363153, -0.28290796795552337, -0.0888649605334708, 0.08368296741324295, -0.3738907607938876, -0.344791726778478, -0.35667025361685517, -0.28290796795552337, -0.22833390500442627, 0.08368296741324295, -0.30808218183955544, -0.3566523205034571, -0.3869198538209781, -0.3257478494216296, -0.2073501378513425, -0.18554580638095158, -0.2537881119019353, -0.39393257881324867, -0.2951668291634671, -0.28811562130009627, -0.17778384113027193, -0.4584344354812407, -0.27598925030116644, -0.25070787661760663, -0.33801342739236184, -0.2951635073493806, -0.31011269356850796, -0.2696346732946016, -0.12902266392483538, -0.2903101484897915, -0.3813327620955197, -0.32703890051151374, -0.2215473089485986, -0.1962479243038937, -0.42393456284702963, -0.08132342042679516, -0.304724002016905, -0.2692414574990124, -0.29316230386434083, -0.3174364975305055, -0.1498816362767932, -0.1498816362767932, -0.31321631347724765, -0.29043568715674023, -0.2429981777555574, -0.23225241335949268, -0.3293465733389535, -0.3170197171956046, -0.41902767748084235, -0.2912160010326396, -0.28297413492489776, -0.3542609048944765, -0.2602998497664305, 0.07843778634071226, -0.3462290912009379, -0.4329562394137795, -0.3490923318011625, -0.35264742868220234, -0.22936320145792902, -0.21137635840329067, -0.3524826607994107, -0.3524826607994107, -0.22007115380920375, -0.3345544637091987, -0.1251971890946169, -0.19146177197807662, -0.40846781181191205, -0.23400355082407673, -0.307044501748825, -0.24285821991318637, -0.2097668095225505, -0.06877868518832629, -0.34998339688105556, -0.1206088611984196, -0.30083008927270416, -0.19291629755151163, -0.41180418309257655, -0.2854098778141131, -0.41160918659889856, -0.24164006589989914, -0.14681133633761478, -0.4368724957313996, -0.3655555094403841, -0.07817774818484553, -0.30957672618963133, -0.2798303126429587, -0.28952827560325023, -0.23102922011929394, -0.36866522387863165, -0.2622932152021987, 0.030428433119455738, -0.3313886975770849], \"yaxis\": \"y\"}],\n",
              "                        {\"legend\": {\"tracegroupgap\": 0}, \"template\": {\"data\": {\"bar\": [{\"error_x\": {\"color\": \"#2a3f5f\"}, \"error_y\": {\"color\": \"#2a3f5f\"}, \"marker\": {\"line\": {\"color\": \"#E5ECF6\", \"width\": 0.5}}, \"type\": \"bar\"}], \"barpolar\": [{\"marker\": {\"line\": {\"color\": \"#E5ECF6\", \"width\": 0.5}}, \"type\": \"barpolar\"}], \"carpet\": [{\"aaxis\": {\"endlinecolor\": \"#2a3f5f\", \"gridcolor\": \"white\", \"linecolor\": \"white\", \"minorgridcolor\": \"white\", \"startlinecolor\": \"#2a3f5f\"}, \"baxis\": {\"endlinecolor\": \"#2a3f5f\", \"gridcolor\": \"white\", \"linecolor\": \"white\", \"minorgridcolor\": \"white\", \"startlinecolor\": \"#2a3f5f\"}, \"type\": \"carpet\"}], \"choropleth\": [{\"colorbar\": {\"outlinewidth\": 0, \"ticks\": \"\"}, \"type\": \"choropleth\"}], \"contour\": [{\"colorbar\": {\"outlinewidth\": 0, \"ticks\": \"\"}, \"colorscale\": [[0.0, \"#0d0887\"], [0.1111111111111111, \"#46039f\"], [0.2222222222222222, \"#7201a8\"], [0.3333333333333333, \"#9c179e\"], [0.4444444444444444, \"#bd3786\"], [0.5555555555555556, \"#d8576b\"], [0.6666666666666666, \"#ed7953\"], [0.7777777777777778, \"#fb9f3a\"], [0.8888888888888888, \"#fdca26\"], [1.0, \"#f0f921\"]], \"type\": \"contour\"}], \"contourcarpet\": [{\"colorbar\": {\"outlinewidth\": 0, \"ticks\": \"\"}, \"type\": \"contourcarpet\"}], \"heatmap\": [{\"colorbar\": {\"outlinewidth\": 0, \"ticks\": \"\"}, \"colorscale\": [[0.0, \"#0d0887\"], [0.1111111111111111, \"#46039f\"], [0.2222222222222222, \"#7201a8\"], [0.3333333333333333, \"#9c179e\"], [0.4444444444444444, \"#bd3786\"], [0.5555555555555556, \"#d8576b\"], [0.6666666666666666, \"#ed7953\"], [0.7777777777777778, \"#fb9f3a\"], [0.8888888888888888, \"#fdca26\"], [1.0, \"#f0f921\"]], \"type\": \"heatmap\"}], \"heatmapgl\": [{\"colorbar\": {\"outlinewidth\": 0, \"ticks\": \"\"}, \"colorscale\": [[0.0, \"#0d0887\"], [0.1111111111111111, \"#46039f\"], [0.2222222222222222, \"#7201a8\"], [0.3333333333333333, \"#9c179e\"], [0.4444444444444444, \"#bd3786\"], [0.5555555555555556, \"#d8576b\"], [0.6666666666666666, \"#ed7953\"], [0.7777777777777778, \"#fb9f3a\"], [0.8888888888888888, \"#fdca26\"], [1.0, \"#f0f921\"]], \"type\": \"heatmapgl\"}], \"histogram\": [{\"marker\": {\"colorbar\": {\"outlinewidth\": 0, \"ticks\": \"\"}}, \"type\": \"histogram\"}], \"histogram2d\": [{\"colorbar\": {\"outlinewidth\": 0, \"ticks\": \"\"}, \"colorscale\": [[0.0, \"#0d0887\"], [0.1111111111111111, \"#46039f\"], [0.2222222222222222, \"#7201a8\"], [0.3333333333333333, \"#9c179e\"], [0.4444444444444444, \"#bd3786\"], [0.5555555555555556, \"#d8576b\"], [0.6666666666666666, \"#ed7953\"], [0.7777777777777778, \"#fb9f3a\"], [0.8888888888888888, \"#fdca26\"], [1.0, \"#f0f921\"]], \"type\": \"histogram2d\"}], \"histogram2dcontour\": [{\"colorbar\": {\"outlinewidth\": 0, \"ticks\": \"\"}, \"colorscale\": [[0.0, \"#0d0887\"], [0.1111111111111111, \"#46039f\"], [0.2222222222222222, \"#7201a8\"], [0.3333333333333333, \"#9c179e\"], [0.4444444444444444, \"#bd3786\"], [0.5555555555555556, \"#d8576b\"], [0.6666666666666666, \"#ed7953\"], [0.7777777777777778, \"#fb9f3a\"], [0.8888888888888888, \"#fdca26\"], [1.0, \"#f0f921\"]], \"type\": \"histogram2dcontour\"}], \"mesh3d\": [{\"colorbar\": {\"outlinewidth\": 0, \"ticks\": \"\"}, \"type\": \"mesh3d\"}], \"parcoords\": [{\"line\": {\"colorbar\": {\"outlinewidth\": 0, \"ticks\": \"\"}}, \"type\": \"parcoords\"}], \"pie\": [{\"automargin\": true, \"type\": \"pie\"}], \"scatter\": [{\"marker\": {\"colorbar\": {\"outlinewidth\": 0, \"ticks\": \"\"}}, \"type\": \"scatter\"}], \"scatter3d\": [{\"line\": {\"colorbar\": {\"outlinewidth\": 0, \"ticks\": \"\"}}, \"marker\": {\"colorbar\": {\"outlinewidth\": 0, \"ticks\": \"\"}}, \"type\": \"scatter3d\"}], \"scattercarpet\": [{\"marker\": {\"colorbar\": {\"outlinewidth\": 0, \"ticks\": \"\"}}, \"type\": \"scattercarpet\"}], \"scattergeo\": [{\"marker\": {\"colorbar\": {\"outlinewidth\": 0, \"ticks\": \"\"}}, \"type\": \"scattergeo\"}], \"scattergl\": [{\"marker\": {\"colorbar\": {\"outlinewidth\": 0, \"ticks\": \"\"}}, \"type\": \"scattergl\"}], \"scattermapbox\": [{\"marker\": {\"colorbar\": {\"outlinewidth\": 0, \"ticks\": \"\"}}, \"type\": \"scattermapbox\"}], \"scatterpolar\": [{\"marker\": {\"colorbar\": {\"outlinewidth\": 0, \"ticks\": \"\"}}, \"type\": \"scatterpolar\"}], \"scatterpolargl\": [{\"marker\": {\"colorbar\": {\"outlinewidth\": 0, \"ticks\": \"\"}}, \"type\": \"scatterpolargl\"}], \"scatterternary\": [{\"marker\": {\"colorbar\": {\"outlinewidth\": 0, \"ticks\": \"\"}}, \"type\": \"scatterternary\"}], \"surface\": [{\"colorbar\": {\"outlinewidth\": 0, \"ticks\": \"\"}, \"colorscale\": [[0.0, \"#0d0887\"], [0.1111111111111111, \"#46039f\"], [0.2222222222222222, \"#7201a8\"], [0.3333333333333333, \"#9c179e\"], [0.4444444444444444, \"#bd3786\"], [0.5555555555555556, \"#d8576b\"], [0.6666666666666666, \"#ed7953\"], [0.7777777777777778, \"#fb9f3a\"], [0.8888888888888888, \"#fdca26\"], [1.0, \"#f0f921\"]], \"type\": \"surface\"}], \"table\": [{\"cells\": {\"fill\": {\"color\": \"#EBF0F8\"}, \"line\": {\"color\": \"white\"}}, \"header\": {\"fill\": {\"color\": \"#C8D4E3\"}, \"line\": {\"color\": \"white\"}}, \"type\": \"table\"}]}, \"layout\": {\"annotationdefaults\": {\"arrowcolor\": \"#2a3f5f\", \"arrowhead\": 0, \"arrowwidth\": 1}, \"coloraxis\": {\"colorbar\": {\"outlinewidth\": 0, \"ticks\": \"\"}}, \"colorscale\": {\"diverging\": [[0, \"#8e0152\"], [0.1, \"#c51b7d\"], [0.2, \"#de77ae\"], [0.3, \"#f1b6da\"], [0.4, \"#fde0ef\"], [0.5, \"#f7f7f7\"], [0.6, \"#e6f5d0\"], [0.7, \"#b8e186\"], [0.8, \"#7fbc41\"], [0.9, \"#4d9221\"], [1, \"#276419\"]], \"sequential\": [[0.0, \"#0d0887\"], [0.1111111111111111, \"#46039f\"], [0.2222222222222222, \"#7201a8\"], [0.3333333333333333, \"#9c179e\"], [0.4444444444444444, \"#bd3786\"], [0.5555555555555556, \"#d8576b\"], [0.6666666666666666, \"#ed7953\"], [0.7777777777777778, \"#fb9f3a\"], [0.8888888888888888, \"#fdca26\"], [1.0, \"#f0f921\"]], \"sequentialminus\": [[0.0, \"#0d0887\"], [0.1111111111111111, \"#46039f\"], [0.2222222222222222, \"#7201a8\"], [0.3333333333333333, \"#9c179e\"], [0.4444444444444444, \"#bd3786\"], [0.5555555555555556, \"#d8576b\"], [0.6666666666666666, \"#ed7953\"], [0.7777777777777778, \"#fb9f3a\"], [0.8888888888888888, \"#fdca26\"], [1.0, \"#f0f921\"]]}, \"colorway\": [\"#636efa\", \"#EF553B\", \"#00cc96\", \"#ab63fa\", \"#FFA15A\", \"#19d3f3\", \"#FF6692\", \"#B6E880\", \"#FF97FF\", \"#FECB52\"], \"font\": {\"color\": \"#2a3f5f\"}, \"geo\": {\"bgcolor\": \"white\", \"lakecolor\": \"white\", \"landcolor\": \"#E5ECF6\", \"showlakes\": true, \"showland\": true, \"subunitcolor\": \"white\"}, \"hoverlabel\": {\"align\": \"left\"}, \"hovermode\": \"closest\", \"mapbox\": {\"style\": \"light\"}, \"paper_bgcolor\": \"white\", \"plot_bgcolor\": \"#E5ECF6\", \"polar\": {\"angularaxis\": {\"gridcolor\": \"white\", \"linecolor\": \"white\", \"ticks\": \"\"}, \"bgcolor\": \"#E5ECF6\", \"radialaxis\": {\"gridcolor\": \"white\", \"linecolor\": \"white\", \"ticks\": \"\"}}, \"scene\": {\"xaxis\": {\"backgroundcolor\": \"#E5ECF6\", \"gridcolor\": \"white\", \"gridwidth\": 2, \"linecolor\": \"white\", \"showbackground\": true, \"ticks\": \"\", \"zerolinecolor\": \"white\"}, \"yaxis\": {\"backgroundcolor\": \"#E5ECF6\", \"gridcolor\": \"white\", \"gridwidth\": 2, \"linecolor\": \"white\", \"showbackground\": true, \"ticks\": \"\", \"zerolinecolor\": \"white\"}, \"zaxis\": {\"backgroundcolor\": \"#E5ECF6\", \"gridcolor\": \"white\", \"gridwidth\": 2, \"linecolor\": \"white\", \"showbackground\": true, \"ticks\": \"\", \"zerolinecolor\": \"white\"}}, \"shapedefaults\": {\"line\": {\"color\": \"#2a3f5f\"}}, \"ternary\": {\"aaxis\": {\"gridcolor\": \"white\", \"linecolor\": \"white\", \"ticks\": \"\"}, \"baxis\": {\"gridcolor\": \"white\", \"linecolor\": \"white\", \"ticks\": \"\"}, \"bgcolor\": \"#E5ECF6\", \"caxis\": {\"gridcolor\": \"white\", \"linecolor\": \"white\", \"ticks\": \"\"}}, \"title\": {\"x\": 0.05}, \"xaxis\": {\"automargin\": true, \"gridcolor\": \"white\", \"linecolor\": \"white\", \"ticks\": \"\", \"title\": {\"standoff\": 15}, \"zerolinecolor\": \"white\", \"zerolinewidth\": 2}, \"yaxis\": {\"automargin\": true, \"gridcolor\": \"white\", \"linecolor\": \"white\", \"ticks\": \"\", \"title\": {\"standoff\": 15}, \"zerolinecolor\": \"white\", \"zerolinewidth\": 2}}}, \"title\": {\"text\": \"PCA BBC Sport news\"}, \"xaxis\": {\"anchor\": \"y\", \"domain\": [0.0, 1.0], \"title\": {\"text\": \"x\"}}, \"yaxis\": {\"anchor\": \"x\", \"domain\": [0.0, 1.0], \"title\": {\"text\": \"y\"}}},\n",
              "                        {\"responsive\": true}\n",
              "                    ).then(function(){\n",
              "                            \n",
              "var gd = document.getElementById('e9157df5-7f54-4fae-a440-81787472c2f3');\n",
              "var x = new MutationObserver(function (mutations, observer) {{\n",
              "        var display = window.getComputedStyle(gd).display;\n",
              "        if (!display || display === 'none') {{\n",
              "            console.log([gd, 'removed!']);\n",
              "            Plotly.purge(gd);\n",
              "            observer.disconnect();\n",
              "        }}\n",
              "}});\n",
              "\n",
              "// Listen for the removal of the full notebook cells\n",
              "var notebookContainer = gd.closest('#notebook-container');\n",
              "if (notebookContainer) {{\n",
              "    x.observe(notebookContainer, {childList: true});\n",
              "}}\n",
              "\n",
              "// Listen for the clearing of the current output cell\n",
              "var outputEl = gd.closest('.output');\n",
              "if (outputEl) {{\n",
              "    x.observe(outputEl, {childList: true});\n",
              "}}\n",
              "\n",
              "                        })\n",
              "                };\n",
              "                \n",
              "            </script>\n",
              "        </div>\n",
              "</body>\n",
              "</html>"
            ]
          },
          "metadata": {
            "tags": []
          }
        }
      ]
    },
    {
      "cell_type": "code",
      "metadata": {
        "colab": {
          "base_uri": "https://localhost:8080/",
          "height": 193
        },
        "id": "IlBTcwPrsNlR",
        "outputId": "c519c373-d2c5-4317-ddea-035de137eb71"
      },
      "source": [
        "df.head(3)"
      ],
      "execution_count": 10,
      "outputs": [
        {
          "output_type": "execute_result",
          "data": {
            "text/html": [
              "<div>\n",
              "<style scoped>\n",
              "    .dataframe tbody tr th:only-of-type {\n",
              "        vertical-align: middle;\n",
              "    }\n",
              "\n",
              "    .dataframe tbody tr th {\n",
              "        vertical-align: top;\n",
              "    }\n",
              "\n",
              "    .dataframe thead th {\n",
              "        text-align: right;\n",
              "    }\n",
              "</style>\n",
              "<table border=\"1\" class=\"dataframe\">\n",
              "  <thead>\n",
              "    <tr style=\"text-align: right;\">\n",
              "      <th></th>\n",
              "      <th>text</th>\n",
              "      <th>topic</th>\n",
              "      <th>text_clean</th>\n",
              "      <th>tfidf</th>\n",
              "      <th>pca</th>\n",
              "    </tr>\n",
              "  </thead>\n",
              "  <tbody>\n",
              "    <tr>\n",
              "      <th>0</th>\n",
              "      <td>Claxton hunting first major medal\\n\\nBritish h...</td>\n",
              "      <td>athletics</td>\n",
              "      <td>claxton hunting first major medal british hurd...</td>\n",
              "      <td>[0.0, 0.13194458247285848, 0.0, 0.0, 0.0, 0.0,...</td>\n",
              "      <td>[0.021879866084772128, -0.25532051198910716]</td>\n",
              "    </tr>\n",
              "    <tr>\n",
              "      <th>1</th>\n",
              "      <td>O'Sullivan could run in Worlds\\n\\nSonia O'Sull...</td>\n",
              "      <td>athletics</td>\n",
              "      <td>sullivan could run worlds sonia sullivan indic...</td>\n",
              "      <td>[0.0, 0.13056235989725676, 0.0, 0.205187581391...</td>\n",
              "      <td>[-0.10792200466090852, 0.012968304114589501]</td>\n",
              "    </tr>\n",
              "    <tr>\n",
              "      <th>2</th>\n",
              "      <td>Greene sets sights on world title\\n\\nMaurice G...</td>\n",
              "      <td>athletics</td>\n",
              "      <td>greene sets sights world title maurice greene ...</td>\n",
              "      <td>[0.0, 0.2125838971766965, 0.0, 0.0, 0.0, 0.0, ...</td>\n",
              "      <td>[0.04744975076795694, -0.2445544939872538]</td>\n",
              "    </tr>\n",
              "  </tbody>\n",
              "</table>\n",
              "</div>"
            ],
            "text/plain": [
              "                                                text  ...                                           pca\n",
              "0  Claxton hunting first major medal\\n\\nBritish h...  ...  [0.021879866084772128, -0.25532051198910716]\n",
              "1  O'Sullivan could run in Worlds\\n\\nSonia O'Sull...  ...  [-0.10792200466090852, 0.012968304114589501]\n",
              "2  Greene sets sights on world title\\n\\nMaurice G...  ...    [0.04744975076795694, -0.2445544939872538]\n",
              "\n",
              "[3 rows x 5 columns]"
            ]
          },
          "metadata": {
            "tags": []
          },
          "execution_count": 10
        }
      ]
    },
    {
      "cell_type": "code",
      "metadata": {
        "colab": {
          "base_uri": "https://localhost:8080/",
          "height": 111
        },
        "id": "NQYMMaxhseH-",
        "outputId": "6a11b1ca-49f6-4c0e-ed9f-53ce3cf7e143"
      },
      "source": [
        "df['named_entities'] = (\r\n",
        "    th.named_entities(df['text_clean']\r\n",
        "))\r\n",
        "df[['named_entities', 'topic']].head(2)\r\n",
        "      "
      ],
      "execution_count": 14,
      "outputs": [
        {
          "output_type": "execute_result",
          "data": {
            "text/html": [
              "<div>\n",
              "<style scoped>\n",
              "    .dataframe tbody tr th:only-of-type {\n",
              "        vertical-align: middle;\n",
              "    }\n",
              "\n",
              "    .dataframe tbody tr th {\n",
              "        vertical-align: top;\n",
              "    }\n",
              "\n",
              "    .dataframe thead th {\n",
              "        text-align: right;\n",
              "    }\n",
              "</style>\n",
              "<table border=\"1\" class=\"dataframe\">\n",
              "  <thead>\n",
              "    <tr style=\"text-align: right;\">\n",
              "      <th></th>\n",
              "      <th>named_entities</th>\n",
              "      <th>topic</th>\n",
              "    </tr>\n",
              "  </thead>\n",
              "  <tbody>\n",
              "    <tr>\n",
              "      <th>0</th>\n",
              "      <td>[(claxton, ORG, 0, 7), (first, ORDINAL, 16, 21...</td>\n",
              "      <td>athletics</td>\n",
              "    </tr>\n",
              "    <tr>\n",
              "      <th>1</th>\n",
              "      <td>[(sullivan, ORG, 0, 8), (sonia sullivan, PERSO...</td>\n",
              "      <td>athletics</td>\n",
              "    </tr>\n",
              "  </tbody>\n",
              "</table>\n",
              "</div>"
            ],
            "text/plain": [
              "                                      named_entities      topic\n",
              "0  [(claxton, ORG, 0, 7), (first, ORDINAL, 16, 21...  athletics\n",
              "1  [(sullivan, ORG, 0, 8), (sonia sullivan, PERSO...  athletics"
            ]
          },
          "metadata": {
            "tags": []
          },
          "execution_count": 14
        }
      ]
    },
    {
      "cell_type": "code",
      "metadata": {
        "colab": {
          "base_uri": "https://localhost:8080/",
          "height": 416
        },
        "id": "sEL3RV-EssT8",
        "outputId": "73df8ae8-c3aa-4657-d66d-3a92f2fce824"
      },
      "source": [
        "NUM_TOP_WORDS = 8\r\n",
        "th.top_words(df['text'])[:NUM_TOP_WORDS].plot.bar(figsize=(8, 6), title='Most Used Words')"
      ],
      "execution_count": 17,
      "outputs": [
        {
          "output_type": "execute_result",
          "data": {
            "text/plain": [
              "<matplotlib.axes._subplots.AxesSubplot at 0x7f79fca1d610>"
            ]
          },
          "metadata": {
            "tags": []
          },
          "execution_count": 17
        },
        {
          "output_type": "display_data",
          "data": {
            "image/png": "[encoded data removed]",
            "text/plain": [
              "<Figure size 576x432 with 1 Axes>"
            ]
          },
          "metadata": {
            "tags": [],
            "needs_background": "light"
          }
        }
      ]
    },
    {
      "cell_type": "code",
      "metadata": {
        "id": "EUIph06SuGDi"
      },
      "source": [
        ""
      ],
      "execution_count": null,
      "outputs": []
    }
  ]
}