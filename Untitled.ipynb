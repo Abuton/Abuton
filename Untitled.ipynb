{
 "cells": [
  {
   "cell_type": "code",
   "execution_count": 10,
   "metadata": {},
   "outputs": [],
   "source": [
    "import pandas as pd\n",
    "\n",
    "'''\n",
    "Loading Gensim and nltk libraries\n",
    "'''\n",
    "\n",
    "import gensim\n",
    "from gensim.utils import simple_preprocess\n",
    "from gensim.parsing.preprocessing import STOPWORDS\n",
    "from nltk.stem import WordNetLemmatizer, SnowballStemmer\n",
    "from nltk.stem.porter import *\n",
    "import numpy as np"
   ]
  },
  {
   "cell_type": "code",
   "execution_count": 15,
   "metadata": {},
   "outputs": [
    {
     "data": {
      "text/html": [
       "<div>\n",
       "<style scoped>\n",
       "    .dataframe tbody tr th:only-of-type {\n",
       "        vertical-align: middle;\n",
       "    }\n",
       "\n",
       "    .dataframe tbody tr th {\n",
       "        vertical-align: top;\n",
       "    }\n",
       "\n",
       "    .dataframe thead th {\n",
       "        text-align: right;\n",
       "    }\n",
       "</style>\n",
       "<table border=\"1\" class=\"dataframe\">\n",
       "  <thead>\n",
       "    <tr style=\"text-align: right;\">\n",
       "      <th></th>\n",
       "      <th>0</th>\n",
       "      <th>1</th>\n",
       "      <th>2</th>\n",
       "    </tr>\n",
       "  </thead>\n",
       "  <tbody>\n",
       "    <tr>\n",
       "      <th>0</th>\n",
       "      <td>1</td>\n",
       "      <td>1</td>\n",
       "      <td>بِسْمِ اللَّهِ الرَّحْمَٰنِ الرَّحِيمِ</td>\n",
       "    </tr>\n",
       "    <tr>\n",
       "      <th>1</th>\n",
       "      <td>1</td>\n",
       "      <td>2</td>\n",
       "      <td>الْحَمْدُ لِلَّهِ رَبِّ الْعَالَمِينَ</td>\n",
       "    </tr>\n",
       "    <tr>\n",
       "      <th>2</th>\n",
       "      <td>1</td>\n",
       "      <td>3</td>\n",
       "      <td>الرَّحْمَٰنِ الرَّحِيمِ</td>\n",
       "    </tr>\n",
       "    <tr>\n",
       "      <th>3</th>\n",
       "      <td>1</td>\n",
       "      <td>4</td>\n",
       "      <td>مَالِكِ يَوْمِ الدِّينِ</td>\n",
       "    </tr>\n",
       "    <tr>\n",
       "      <th>4</th>\n",
       "      <td>1</td>\n",
       "      <td>5</td>\n",
       "      <td>إِيَّاكَ نَعْبُدُ وَإِيَّاكَ نَسْتَعِينُ</td>\n",
       "    </tr>\n",
       "  </tbody>\n",
       "</table>\n",
       "</div>"
      ],
      "text/plain": [
       "   0  1                                         2\n",
       "0  1  1    بِسْمِ اللَّهِ الرَّحْمَٰنِ الرَّحِيمِ\n",
       "1  1  2     الْحَمْدُ لِلَّهِ رَبِّ الْعَالَمِينَ\n",
       "2  1  3                   الرَّحْمَٰنِ الرَّحِيمِ\n",
       "3  1  4                   مَالِكِ يَوْمِ الدِّينِ\n",
       "4  1  5  إِيَّاكَ نَعْبُدُ وَإِيَّاكَ نَسْتَعِينُ"
      ]
     },
     "execution_count": 15,
     "metadata": {},
     "output_type": "execute_result"
    }
   ],
   "source": [
    "df= pd.read_csv('Arabic-Original.csv', sep='|', header=None)\n",
    "\n",
    "df.head()"
   ]
  },
  {
   "cell_type": "code",
   "execution_count": 16,
   "metadata": {},
   "outputs": [
    {
     "data": {
      "text/plain": [
       "Int64Index([0, 1, 2], dtype='int64')"
      ]
     },
     "execution_count": 16,
     "metadata": {},
     "output_type": "execute_result"
    }
   ],
   "source": [
    "df.columns"
   ]
  },
  {
   "cell_type": "markdown",
   "metadata": {},
   "source": [
    "#### Data Preprocessing\n",
    "\n",
    "We will perform the following steps:\n",
    "\n",
    "**Tokenization**: Split the text into sentences and the sentences into words. Lowercase the words and remove punctuation. <br>\n",
    "Words that have fewer than 3 characters are removed. <br>\n",
    "All stopwords are removed. <br>\n",
    "**Words are lemmatized** - words in third person are changed to first person and verbs in past and future tenses are changed into present. <br>\n",
    "Words are stemmed - words are reduced to their root form."
   ]
  },
  {
   "cell_type": "code",
   "execution_count": 26,
   "metadata": {},
   "outputs": [],
   "source": [
    "'''\n",
    "Loading Gensim and nltk libraries\n",
    "'''\n",
    "\n",
    "import gensim\n",
    "from gensim.utils import simple_preprocess\n",
    "# from gensim.parsing.preprocessing import STOPWORDS\n",
    "from nltk.stem import WordNetLemmatizer, SnowballStemmer, ISRIStemmer\n",
    "from nltk.stem.porter import *\n",
    "import numpy as np\n",
    "np.random.seed(400)"
   ]
  },
  {
   "cell_type": "code",
   "execution_count": 13,
   "metadata": {},
   "outputs": [
    {
     "name": "stderr",
     "output_type": "stream",
     "text": [
      "[nltk_data] Downloading package wordnet to\n",
      "[nltk_data]     C:\\Users\\ABUTON\\AppData\\Roaming\\nltk_data...\n",
      "[nltk_data]   Package wordnet is already up-to-date!\n"
     ]
    },
    {
     "data": {
      "text/plain": [
       "True"
      ]
     },
     "execution_count": 13,
     "metadata": {},
     "output_type": "execute_result"
    }
   ],
   "source": [
    "import nltk\n",
    "nltk.download('wordnet')"
   ]
  },
  {
   "cell_type": "code",
   "execution_count": 33,
   "metadata": {},
   "outputs": [],
   "source": [
    "'''\n",
    "Write a function to perform the pre processing steps on the entire dataset\n",
    "'''\n",
    "stemmer = SnowballStemmer(\"english\")\n",
    "def lemmatize_stemming(text):\n",
    "    return stemmer.stem(WordNetLemmatizer().lemmatize(text, pos='v'))\n",
    "\n",
    "# Tokenize and Lemmatize\n",
    "def preprocess(text):\n",
    "    import re\n",
    "    result=[]\n",
    "    for token in gensim.utils.simple_preprocess(text) :\n",
    "        if token not in nltk.corpus.stopwords.words('arabic') and len(token) > 3:\n",
    "#             a = lemmatize_steming(re.sub('[~]', '', token))\n",
    "            result.append(lemmatize_stemming(token))\n",
    "            \n",
    "    return result"
   ]
  },
  {
   "cell_type": "code",
   "execution_count": 23,
   "metadata": {},
   "outputs": [],
   "source": [
    "df.reset_index(inplace=True)"
   ]
  },
  {
   "cell_type": "code",
   "execution_count": 24,
   "metadata": {},
   "outputs": [
    {
     "data": {
      "text/html": [
       "<div>\n",
       "<style scoped>\n",
       "    .dataframe tbody tr th:only-of-type {\n",
       "        vertical-align: middle;\n",
       "    }\n",
       "\n",
       "    .dataframe tbody tr th {\n",
       "        vertical-align: top;\n",
       "    }\n",
       "\n",
       "    .dataframe thead th {\n",
       "        text-align: right;\n",
       "    }\n",
       "</style>\n",
       "<table border=\"1\" class=\"dataframe\">\n",
       "  <thead>\n",
       "    <tr style=\"text-align: right;\">\n",
       "      <th></th>\n",
       "      <th>index</th>\n",
       "      <th>0</th>\n",
       "      <th>1</th>\n",
       "      <th>2</th>\n",
       "    </tr>\n",
       "  </thead>\n",
       "  <tbody>\n",
       "    <tr>\n",
       "      <th>0</th>\n",
       "      <td>0</td>\n",
       "      <td>1</td>\n",
       "      <td>1</td>\n",
       "      <td>بِسْمِ اللَّهِ الرَّحْمَٰنِ الرَّحِيمِ</td>\n",
       "    </tr>\n",
       "    <tr>\n",
       "      <th>1</th>\n",
       "      <td>1</td>\n",
       "      <td>1</td>\n",
       "      <td>2</td>\n",
       "      <td>الْحَمْدُ لِلَّهِ رَبِّ الْعَالَمِينَ</td>\n",
       "    </tr>\n",
       "    <tr>\n",
       "      <th>2</th>\n",
       "      <td>2</td>\n",
       "      <td>1</td>\n",
       "      <td>3</td>\n",
       "      <td>الرَّحْمَٰنِ الرَّحِيمِ</td>\n",
       "    </tr>\n",
       "    <tr>\n",
       "      <th>3</th>\n",
       "      <td>3</td>\n",
       "      <td>1</td>\n",
       "      <td>4</td>\n",
       "      <td>مَالِكِ يَوْمِ الدِّينِ</td>\n",
       "    </tr>\n",
       "    <tr>\n",
       "      <th>4</th>\n",
       "      <td>4</td>\n",
       "      <td>1</td>\n",
       "      <td>5</td>\n",
       "      <td>إِيَّاكَ نَعْبُدُ وَإِيَّاكَ نَسْتَعِينُ</td>\n",
       "    </tr>\n",
       "  </tbody>\n",
       "</table>\n",
       "</div>"
      ],
      "text/plain": [
       "   index  0  1                                         2\n",
       "0      0  1  1    بِسْمِ اللَّهِ الرَّحْمَٰنِ الرَّحِيمِ\n",
       "1      1  1  2     الْحَمْدُ لِلَّهِ رَبِّ الْعَالَمِينَ\n",
       "2      2  1  3                   الرَّحْمَٰنِ الرَّحِيمِ\n",
       "3      3  1  4                   مَالِكِ يَوْمِ الدِّينِ\n",
       "4      4  1  5  إِيَّاكَ نَعْبُدُ وَإِيَّاكَ نَسْتَعِينُ"
      ]
     },
     "execution_count": 24,
     "metadata": {},
     "output_type": "execute_result"
    }
   ],
   "source": [
    "df.head()"
   ]
  },
  {
   "cell_type": "code",
   "execution_count": 34,
   "metadata": {},
   "outputs": [
    {
     "name": "stdout",
     "output_type": "stream",
     "text": [
      "Original document: \n",
      "['وَالَّذِينَ', 'إِذَا', 'أَصَابَهُمُ', 'الْبَغْيُ', 'هُمْ', 'يَنْتَصِرُونَ']\n",
      "\n",
      "\n",
      "Tokenized and lemmatized document: \n",
      "[]\n"
     ]
    }
   ],
   "source": [
    "'''\n",
    "Preview a document after preprocessing\n",
    "'''\n",
    "\n",
    "document_num = 4310\n",
    "doc_sample = df[df['index'] == document_num].values[0][-1]\n",
    "\n",
    "print(\"Original document: \")\n",
    "words = []\n",
    "for word in doc_sample.split(' '):\n",
    "    words.append(word)\n",
    "print(words)\n",
    "print(\"\\n\\nTokenized and lemmatized document: \")\n",
    "print(preprocess(doc_sample))"
   ]
  },
  {
   "cell_type": "code",
   "execution_count": 30,
   "metadata": {},
   "outputs": [
    {
     "data": {
      "text/plain": [
       "'وَالَّذِينَ إِذَا أَصَابَهُمُ الْبَغْيُ هُمْ يَنْتَصِرُونَ'"
      ]
     },
     "execution_count": 30,
     "metadata": {},
     "output_type": "execute_result"
    }
   ],
   "source": [
    "df[df['index'] == document_num].values[0][-1]"
   ]
  },
  {
   "cell_type": "code",
   "execution_count": null,
   "metadata": {},
   "outputs": [],
   "source": []
  },
  {
   "cell_type": "code",
   "execution_count": null,
   "metadata": {},
   "outputs": [],
   "source": []
  },
  {
   "cell_type": "markdown",
   "metadata": {},
   "source": [
    "## Testing MechanicalSoup"
   ]
  },
  {
   "cell_type": "code",
   "execution_count": 35,
   "metadata": {},
   "outputs": [
    {
     "data": {
      "text/plain": [
       "<Response [200]>"
      ]
     },
     "execution_count": 35,
     "metadata": {},
     "output_type": "execute_result"
    }
   ],
   "source": [
    "import mechanicalsoup\n",
    "\n",
    "browser = mechanicalsoup.StatefulBrowser()\n",
    "\n",
    "url = \"https://www.google.com/search?q=cat&sxsrf=ALeKk02OouVpPFDXjIrDvJmBUg6nnDeDAw:1610807126259&source=lnms&tbm=isch&sa=X&ved=2ahUKEwj3nr-U1KDuAhW3QRUIHXhFBCgQ_AUoAXoECBQQAw&biw=1366&bih=695\"\n",
    "browser.open(url)"
   ]
  },
  {
   "cell_type": "code",
   "execution_count": 36,
   "metadata": {},
   "outputs": [
    {
     "data": {
      "text/plain": [
       "<!DOCTYPE html PUBLIC \"-//WAPFORUM//DTD XHTML Mobile 1.0//EN\" \"http://www.wapforum.org/DTD/xhtml-mobile10.dtd\">\n",
       "<html lang=\"en-NG\" xmlns=\"http://www.w3.org/1999/xhtml\"><head><meta content=\"application/xhtml+xml; charset=utf-8\" http-equiv=\"Content-Type\"/><meta content=\"no-cache\" name=\"Cache-Control\"/><title>cat - Google Search</title><style>a{text-decoration:none;color:inherit}a:hover{text-decoration:underline}a img{border:0}body{font-family:Roboto,Helvetica,Arial,sans-serif;padding:8px;margin:0 auto;max-width:700px;min-width:240px;}.FbhRzb{border-left:thin solid #dadce0;border-right:thin solid #dadce0;border-top:thin solid #dadce0;height:40px;overflow:hidden}.n692Zd{margin-bottom:10px}.cvifge{height:40px;border-spacing:0}.QvGUP{height:40px;padding:0 8px 0 8px;vertical-align:top}.O4cRJf{height:40px;width:100%;padding:0;padding-right:16px}.O1ePr{height:40px;padding:0;vertical-align:top}.kgJEQe{height:36px;width:98px;vertical-align:top;margin-top:4px}.lXLRf{vertical-align:top}.MhzMZd{border:0;vertical-align:middle;font-size:14px;height:40px;padding:0;width:100%;padding-left:16px}.xB0fq{height:40px;border:none;font-size:14px;background-color:#4285f4;color:#fff;padding:0 16px;margin:0;vertical-align:top;cursor:pointer}.xB0fq:focus{border:1px solid #000}.M7pB2{border:thin solid #dadce0;margin:0 0 3px 0;font-size:13px;font-weight:500;height:40px}.euZec{width:100%;height:40px;text-align:center;border-spacing:0}table.euZec td{padding:0;width:25%}.QIqI7{display:inline-block;padding-top:4px;font-weight:bold;color:#4285f4}.EY24We{border-bottom:2px solid #4285f4}.CsQyDc{display:inline-block;color:#70757a}.TuS8Ad{font-size:14px}.dzp8ae{font-weight:bold;color:#3c4043}.rEM8G{color:#70757a}.bookcf{table-layout:fixed;width:100%;border-spacing:0}.InWNIe{text-align:center}.uZgmoc{border:thin solid #dadce0;color:#70757a;font-size:14px;text-align:center;table-layout:fixed;width:100%}.frGj1b{display:block;padding:12px 0px 12px 0px;width:100%}.BnJWBc{text-align:center;padding:6px 0 13px 0;height:35px}.e3goi{vertical-align:top;padding:0;height:180px}.GpQGbf{margin:auto;border-collapse:collapse;border-spacing:0;width:100%}</style></head><body><style>.X6ZCif{color:#202124;font-size:11px;line-height:16px;display:inline-block;padding-top:2px;overflow:hidden;padding-bottom:4px;width:100%}.TwVfHd{border-radius:16px;border:thin solid #dadce0;display:inline-block;padding:8px 8px;margin-right:8px;margin-bottom:4px}.yekiAe{background-color:#dadce0}.svla5d{width:100%}.ezO2md{border:thin solid #dadce0;padding:12px 16px 12px 16px;margin-bottom:10px;font-family:Roboto,Helvetica,Arial,sans-serif}.lIMUZd{font-family:Roboto,Helvetica,Arial,sans-serif}.TxbwNb{border-spacing:0}.K35ahc{width:100%}.owohpf{text-align:center}.RAyV4b{width:162px;height:140px;line-height:140px;overflow:'hidden';text-align:center}.t0fcAb{text-align:center;margin:auto;vertical-align:middle;max-width:162px;max-height:140px}.Tor4Ec{padding-top:2px;padding-bottom:8px;}.fYyStc{word-break:break-word}.ynsChf{display:block;white-space:nowrap;overflow:hidden;text-overflow:ellipsis}.Fj3V3b{color:#1967D2;font-size:14px;line-height:20px}.FrIlee{color:#202124;font-size:11px;line-height:16px}.F9iS2e{color:#70757a;font-size:11px;line-height:16px}.WMQ2Le{color:#70757a;font-size:12px;line-height:16px}.x3G5ab{color:#202124;font-size:12px;line-height:16px}.fuLhoc{color:#1967D2;font-size:16px;line-height:20px}.epoveb{font-size:24px;line-height:28px;font-weight:400;color:#202124}.dXDvrc{color:#0d652d;font-size:14px;line-height:20px;word-wrap:break-word}.dloBPe{font-weight:bold}.YVIcad{color:#70757a}.JkVVdd{color:#ea4335}.oXZRFd{color:#ea4335}.MQHtg{color:#fbbc04}.pyMRrb{color:#1e8e3e}.EtTZid{color:#1e8e3e}.M3vVJe{color:#1967D2}.qXLe6d{display:block}.NHQNef{font-style:italic}.Cb8Z7c{white-space:pre}a.ZWRArf{text-decoration:none}a .CVA68e:hover{text-decoration:underline}</style><div class=\"n692Zd\"><div class=\"BnJWBc\"><a class=\"lXLRf\" href=\"/?sa=X&amp;biw=1366&amp;bih=695&amp;output=images&amp;ie=UTF-8&amp;tbm=isch&amp;ved=0ahUKEwiajbfB1KDuAhUs5uAKHWPmC1YQPAgC\"><img alt=\"Google\" class=\"kgJEQe\" src=\"/images/branding/searchlogo/1x/googlelogo_desk_heirloom_color_150x55dp.gif\"/></a></div><div class=\"FbhRzb\"><form action=\"/search\"><input name=\"biw\" type=\"hidden\" value=\"1366\"/><input name=\"bih\" type=\"hidden\" value=\"695\"/><input name=\"ie\" type=\"hidden\" value=\"ISO-8859-1\"/><input name=\"tbm\" type=\"hidden\" value=\"isch\"/><input name=\"oq\" type=\"hidden\"/><input name=\"aqs\" type=\"hidden\"/><table class=\"cvifge\"><tr><td class=\"O4cRJf\"><input class=\"MhzMZd\" name=\"q\" type=\"text\" value=\"cat\"/></td><td class=\"O1ePr\"><input class=\"xB0fq\" type=\"submit\" value=\"Search\"/></td></tr></table></form></div><div class=\"M7pB2\"><table class=\"euZec\"><tbody><tr><td><a class=\"CsQyDc\" href=\"/search?q=cat&amp;biw=1366&amp;bih=695&amp;ie=UTF-8&amp;source=lnms&amp;sa=X&amp;ved=0ahUKEwiajbfB1KDuAhUs5uAKHWPmC1YQ_AUIBCgA\">ALL</a></td><td class=\"EY24We\"><span class=\"QIqI7\">IMAGES</span></td><td><a class=\"CsQyDc\" href=\"/search?q=cat&amp;biw=1366&amp;bih=695&amp;ie=UTF-8&amp;tbm=vid&amp;source=lnms&amp;sa=X&amp;ved=0ahUKEwiajbfB1KDuAhUs5uAKHWPmC1YQ_AUIBigC\">VIDEOS</a></td><td><a class=\"CsQyDc\" href=\"/search?q=cat&amp;biw=1366&amp;bih=695&amp;ie=UTF-8&amp;tbm=nws&amp;source=lnms&amp;sa=X&amp;ved=0ahUKEwiajbfB1KDuAhUs5uAKHWPmC1YQ_AUIBygD\">NEWS</a></td></tr></tbody></table></div></div><div><table class=\"GpQGbf\"><tr><td align=\"center\" class=\"e3goi\"><div class=\"svla5d\"> <div> <div class=\"lIMUZd\"><div><table class=\"TxbwNb\"><tr><td><a href=\"/url?q=https://www.bbc.com/news/world-europe-50247789&amp;sa=U&amp;ved=2ahUKEwiajbfB1KDuAhUs5uAKHWPmC1YQqoUBMAB6BAgAEAE&amp;usg=AOvVaw0jw3OhfH_2zT1jA4fFe9_M\"><div class=\"RAyV4b\"><img alt=\"\" class=\"t0fcAb\" src=\"https://encrypted-tbn0.gstatic.com/images?q=tbn:ANd9GcTD9EBJQoQP6dwl7Vq_LaYshi7rJ0Gy7Lp1IT--g4t4mquU0E9ul-9Fj8f6H4o&amp;s\"/></div></a></td></tr><tr><td><a href=\"/url?q=https://www.bbc.com/news/world-europe-50247789&amp;sa=U&amp;ved=2ahUKEwiajbfB1KDuAhUs5uAKHWPmC1YQr4kDMAB6BAgAEAI&amp;usg=AOvVaw31OZgVd1C6dzfdGgpMb7Ub\"><div class=\"Tor4Ec\"> <span class=\"qXLe6d x3G5ab\"> <span class=\"fYyStc\">Cat attack: Moscow man...</span> </span> <span class=\"qXLe6d F9iS2e\"> <span class=\"fYyStc\">bbc.com</span> </span> </div></a></td></tr></table></div></div> </div> </div></td><td align=\"center\" class=\"e3goi\"><div class=\"svla5d\"> <div> <div class=\"lIMUZd\"><div><table class=\"TxbwNb\"><tr><td><a href=\"/url?q=https://www.bbc.com/news/world-asia-china-52131940&amp;sa=U&amp;ved=2ahUKEwiajbfB1KDuAhUs5uAKHWPmC1YQqoUBMAF6BAgTEAE&amp;usg=AOvVaw06xyDOaExFiCKuyRVwmawS\"><div class=\"RAyV4b\"><img alt=\"\" class=\"t0fcAb\" src=\"https://encrypted-tbn0.gstatic.com/images?q=tbn:ANd9GcTBU9Fx1oykyNxQLIuB8KyUBNhC0rqjjCIpQB8sUkethHM_MpNtFqL-7kMhzw&amp;s\"/></div></a></td></tr><tr><td><a href=\"/url?q=https://www.bbc.com/news/world-asia-china-52131940&amp;sa=U&amp;ved=2ahUKEwiajbfB1KDuAhUs5uAKHWPmC1YQr4kDMAF6BAgTEAI&amp;usg=AOvVaw0oWE-1VSlmuIZhz8IwfcrV\"><div class=\"Tor4Ec\"> <span class=\"qXLe6d x3G5ab\"> <span class=\"fYyStc\">Shenzhen becomes first...</span> </span> <span class=\"qXLe6d F9iS2e\"> <span class=\"fYyStc\">bbc.com</span> </span> </div></a></td></tr></table></div></div> </div> </div></td><td align=\"center\" class=\"e3goi\"><div class=\"svla5d\"> <div> <div class=\"lIMUZd\"><div><table class=\"TxbwNb\"><tr><td><a href=\"/url?q=https://icatcare.org/advice/thinking-of-getting-a-cat/&amp;sa=U&amp;ved=2ahUKEwiajbfB1KDuAhUs5uAKHWPmC1YQqoUBMAJ6BAgREAE&amp;usg=AOvVaw0YfDD0fOYQnEMeIg-MjW4q\"><div class=\"RAyV4b\"><img alt=\"\" class=\"t0fcAb\" src=\"https://encrypted-tbn0.gstatic.com/images?q=tbn:ANd9GcR1M6cnFrSeLZ4Mhu6G7M4_1hxuM1Svg-QJ2dnBYv5kM1Kg5GDzx91AZccX-Q&amp;s\"/></div></a></td></tr><tr><td><a href=\"/url?q=https://icatcare.org/advice/thinking-of-getting-a-cat/&amp;sa=U&amp;ved=2ahUKEwiajbfB1KDuAhUs5uAKHWPmC1YQr4kDMAJ6BAgREAI&amp;usg=AOvVaw3-HKxvpHeZdSY6icdrQ6KL\"><div class=\"Tor4Ec\"> <span class=\"qXLe6d x3G5ab\"> <span class=\"fYyStc\">Thinking of getting a cat?...</span> </span> <span class=\"qXLe6d F9iS2e\"> <span class=\"fYyStc\">icatcare.org</span> </span> </div></a></td></tr></table></div></div> </div> </div></td><td align=\"center\" class=\"e3goi\"><div class=\"svla5d\"> <div> <div class=\"lIMUZd\"><div><table class=\"TxbwNb\"><tr><td><a href=\"/url?q=https://theconversation.com/how-we-found-coronavirus-in-a-cat-143697&amp;sa=U&amp;ved=2ahUKEwiajbfB1KDuAhUs5uAKHWPmC1YQqoUBMAN6BAgSEAE&amp;usg=AOvVaw2xYh-EU-SBJTMlf3dbr2Hc\"><div class=\"RAyV4b\"><img alt=\"\" class=\"t0fcAb\" src=\"https://encrypted-tbn0.gstatic.com/images?q=tbn:ANd9GcS0VgOQNStRu2FMOu93paswZZzCBmmNcBz43URlXKhL3bqjNsYUb-gaB-dKOWs&amp;s\"/></div></a></td></tr><tr><td><a href=\"/url?q=https://theconversation.com/how-we-found-coronavirus-in-a-cat-143697&amp;sa=U&amp;ved=2ahUKEwiajbfB1KDuAhUs5uAKHWPmC1YQr4kDMAN6BAgSEAI&amp;usg=AOvVaw1PsRBqf316bCu8-51mj4hm\"><div class=\"Tor4Ec\"> <span class=\"qXLe6d x3G5ab\"> <span class=\"fYyStc\">How we found coronavirus in...</span> </span> <span class=\"qXLe6d F9iS2e\"> <span class=\"fYyStc\">theconversation.com</span> </span> </div></a></td></tr></table></div></div> </div> </div></td></tr><tr><td align=\"center\" class=\"e3goi\"><div class=\"svla5d\"> <div> <div class=\"lIMUZd\"><div><table class=\"TxbwNb\"><tr><td><a href=\"/url?q=https://www.scientificamerican.com/article/cats-can-get-coronavirus-study-suggests-but-pet-owners-need-not-panic/&amp;sa=U&amp;ved=2ahUKEwiajbfB1KDuAhUs5uAKHWPmC1YQqoUBMAR6BAgQEAE&amp;usg=AOvVaw3zsY2_I5MmGOR-Y_DJkD8v\"><div class=\"RAyV4b\"><img alt=\"\" class=\"t0fcAb\" src=\"https://encrypted-tbn0.gstatic.com/images?q=tbn:ANd9GcTV3-zBg2kpIl_oDZMC0gNdGplc5zMRQEI418ZJ26dnzSEQ4hRTyEDE71pJCA&amp;s\"/></div></a></td></tr><tr><td><a href=\"/url?q=https://www.scientificamerican.com/article/cats-can-get-coronavirus-study-suggests-but-pet-owners-need-not-panic/&amp;sa=U&amp;ved=2ahUKEwiajbfB1KDuAhUs5uAKHWPmC1YQr4kDMAR6BAgQEAI&amp;usg=AOvVaw0zTnh8g8tTTJovamq9yWPP\"><div class=\"Tor4Ec\"> <span class=\"qXLe6d x3G5ab\"> <span class=\"fYyStc\">Cats Can Get Coronavirus,...</span> </span> <span class=\"qXLe6d F9iS2e\"> <span class=\"fYyStc\">scientificamerican.com</span> </span> </div></a></td></tr></table></div></div> </div> </div></td><td align=\"center\" class=\"e3goi\"><div class=\"svla5d\"> <div> <div class=\"lIMUZd\"><div><table class=\"TxbwNb\"><tr><td><a href=\"/url?q=https://pets.webmd.com/cats/cat-vaccines&amp;sa=U&amp;ved=2ahUKEwiajbfB1KDuAhUs5uAKHWPmC1YQqoUBMAV6BAgOEAE&amp;usg=AOvVaw24pM31RZrxJRtjBmw4f7iZ\"><div class=\"RAyV4b\"><img alt=\"\" class=\"t0fcAb\" src=\"https://encrypted-tbn0.gstatic.com/images?q=tbn:ANd9GcQpEPs6OzeZseb-LvnqZGty5j4lTd_Kv18gPvL87DhhlNSwtPmAT6diUT7eqJc&amp;s\"/></div></a></td></tr><tr><td><a href=\"/url?q=https://pets.webmd.com/cats/cat-vaccines&amp;sa=U&amp;ved=2ahUKEwiajbfB1KDuAhUs5uAKHWPmC1YQr4kDMAV6BAgOEAI&amp;usg=AOvVaw1g3Z2oDoekNoixHowrg9JW\"><div class=\"Tor4Ec\"> <span class=\"qXLe6d x3G5ab\"> <span class=\"fYyStc\">The Shots Your Cat Needs</span> </span> <span class=\"qXLe6d F9iS2e\"> <span class=\"fYyStc\">pets.webmd.com</span> </span> </div></a></td></tr></table></div></div> </div> </div></td><td align=\"center\" class=\"e3goi\"><div class=\"svla5d\"> <div> <div class=\"lIMUZd\"><div><table class=\"TxbwNb\"><tr><td><a href=\"/url?q=https://www.theguardian.com/lifeandstyle/2020/sep/05/what-cats-mean-by-miaow-japans-pet-guru-knows-just-what-your-feline-friend-wants&amp;sa=U&amp;ved=2ahUKEwiajbfB1KDuAhUs5uAKHWPmC1YQqoUBMAZ6BAgPEAE&amp;usg=AOvVaw3Puj_Ros9XUqZvxJI-hFTC\"><div class=\"RAyV4b\"><img alt=\"\" class=\"t0fcAb\" src=\"https://encrypted-tbn0.gstatic.com/images?q=tbn:ANd9GcR7UDPBCebpUM7tMLJEJwrU_6DW6OBmLaLBVSmWM8YXq7ChWw2fPbR4ZrKEiA&amp;s\"/></div></a></td></tr><tr><td><a href=\"/url?q=https://www.theguardian.com/lifeandstyle/2020/sep/05/what-cats-mean-by-miaow-japans-pet-guru-knows-just-what-your-feline-friend-wants&amp;sa=U&amp;ved=2ahUKEwiajbfB1KDuAhUs5uAKHWPmC1YQr4kDMAZ6BAgPEAI&amp;usg=AOvVaw27g8vIeT_ALfhI-j0PIPFX\"><div class=\"Tor4Ec\"> <span class=\"qXLe6d x3G5ab\"> <span class=\"fYyStc\">What does your cat mean by...</span> </span> <span class=\"qXLe6d F9iS2e\"> <span class=\"fYyStc\">theguardian.com</span> </span> </div></a></td></tr></table></div></div> </div> </div></td><td align=\"center\" class=\"e3goi\"><div class=\"svla5d\"> <div> <div class=\"lIMUZd\"><div><table class=\"TxbwNb\"><tr><td><a href=\"/url?q=https://www.the-scientist.com/news-opinion/chinas-first-cloned-kitten--garlic-66400&amp;sa=U&amp;ved=2ahUKEwiajbfB1KDuAhUs5uAKHWPmC1YQqoUBMAd6BAgMEAE&amp;usg=AOvVaw3NRwk2o9xNrM5tkmV5OKTg\"><div class=\"RAyV4b\"><img alt=\"\" class=\"t0fcAb\" src=\"https://encrypted-tbn0.gstatic.com/images?q=tbn:ANd9GcTGP5Zmc9uybitajY-AsRj99o33w7qJMmN6RSoaD4BI4ZaM7qNqtd73bWL8LXw&amp;s\"/></div></a></td></tr><tr><td><a href=\"/url?q=https://www.the-scientist.com/news-opinion/chinas-first-cloned-kitten--garlic-66400&amp;sa=U&amp;ved=2ahUKEwiajbfB1KDuAhUs5uAKHWPmC1YQr4kDMAd6BAgMEAI&amp;usg=AOvVaw1m4y8N2f-YoVnWneZVWVpw\"><div class=\"Tor4Ec\"> <span class=\"qXLe6d x3G5ab\"> <span class=\"fYyStc\">China's First Cloned...</span> </span> <span class=\"qXLe6d F9iS2e\"> <span class=\"fYyStc\">the-scientist.com</span> </span> </div></a></td></tr></table></div></div> </div> </div></td></tr><tr><td align=\"center\" class=\"e3goi\"><div class=\"svla5d\"> <div> <div class=\"lIMUZd\"><div><table class=\"TxbwNb\"><tr><td><a href=\"/url?q=https://www.nationalgeographic.com/news/2018/05/animals-cats-training-pets/&amp;sa=U&amp;ved=2ahUKEwiajbfB1KDuAhUs5uAKHWPmC1YQqoUBMAh6BAgNEAE&amp;usg=AOvVaw2zusSOIYrgx9hKF2-8bKjB\"><div class=\"RAyV4b\"><img alt=\"\" class=\"t0fcAb\" src=\"https://encrypted-tbn0.gstatic.com/images?q=tbn:ANd9GcSOAI5pVyH-nHWHMzqmVmhITn2QloNK0rff-oTtoREmtSczp0biRWh4tV3ujw&amp;s\"/></div></a></td></tr><tr><td><a href=\"/url?q=https://www.nationalgeographic.com/news/2018/05/animals-cats-training-pets/&amp;sa=U&amp;ved=2ahUKEwiajbfB1KDuAhUs5uAKHWPmC1YQr4kDMAh6BAgNEAI&amp;usg=AOvVaw3yfWtvIGh9I2KgaFcbVGhD\"><div class=\"Tor4Ec\"> <span class=\"qXLe6d x3G5ab\"> <span class=\"fYyStc\">Why You're Probably...</span> </span> <span class=\"qXLe6d F9iS2e\"> <span class=\"fYyStc\">nationalgeographic.com</span> </span> </div></a></td></tr></table></div></div> </div> </div></td><td align=\"center\" class=\"e3goi\"><div class=\"svla5d\"> <div> <div class=\"lIMUZd\"><div><table class=\"TxbwNb\"><tr><td><a href=\"/url?q=https://www.aa.com.tr/en/life/turkey-s-van-cats-to-seek-crown-in-int-l-beauty-pageant/1624667&amp;sa=U&amp;ved=2ahUKEwiajbfB1KDuAhUs5uAKHWPmC1YQqoUBMAl6BAgLEAE&amp;usg=AOvVaw2XncvaBB_yfn581p1IfazS\"><div class=\"RAyV4b\"><img alt=\"\" class=\"t0fcAb\" src=\"https://encrypted-tbn0.gstatic.com/images?q=tbn:ANd9GcT72oSati59B8QjyHt2GhGFo9iO5sioxH-t2jhJpGmpcSQ2wWAKUuhkvQeYbQ&amp;s\"/></div></a></td></tr><tr><td><a href=\"/url?q=https://www.aa.com.tr/en/life/turkey-s-van-cats-to-seek-crown-in-int-l-beauty-pageant/1624667&amp;sa=U&amp;ved=2ahUKEwiajbfB1KDuAhUs5uAKHWPmC1YQr4kDMAl6BAgLEAI&amp;usg=AOvVaw3XXhQ4E9Akk_xRxr7IY1B5\"><div class=\"Tor4Ec\"> <span class=\"qXLe6d x3G5ab\"> <span class=\"fYyStc\">Turkey's Van cats to seek...</span> </span> <span class=\"qXLe6d F9iS2e\"> <span class=\"fYyStc\">aa.com.tr</span> </span> </div></a></td></tr></table></div></div> </div> </div></td><td align=\"center\" class=\"e3goi\"><div class=\"svla5d\"> <div> <div class=\"lIMUZd\"><div><table class=\"TxbwNb\"><tr><td><a href=\"/url?q=https://www.britannica.com/list/the-10-best-types-of-cat&amp;sa=U&amp;ved=2ahUKEwiajbfB1KDuAhUs5uAKHWPmC1YQqoUBMAp6BAgKEAE&amp;usg=AOvVaw280Z0TnEzMEBYLZ5CtQoEO\"><div class=\"RAyV4b\"><img alt=\"\" class=\"t0fcAb\" src=\"https://encrypted-tbn0.gstatic.com/images?q=tbn:ANd9GcT_S28m6kTKcKu0r7DhgFcrN586-aqADs2i7NOdni-tEJPrcqBywpiHVNp1Nw&amp;s\"/></div></a></td></tr><tr><td><a href=\"/url?q=https://www.britannica.com/list/the-10-best-types-of-cat&amp;sa=U&amp;ved=2ahUKEwiajbfB1KDuAhUs5uAKHWPmC1YQr4kDMAp6BAgKEAI&amp;usg=AOvVaw2y7T9m7S3nZ3TaSc8MkZHk\"><div class=\"Tor4Ec\"> <span class=\"qXLe6d x3G5ab\"> <span class=\"fYyStc\">The 10 Best Types of Cat |...</span> </span> <span class=\"qXLe6d F9iS2e\"> <span class=\"fYyStc\">britannica.com</span> </span> </div></a></td></tr></table></div></div> </div> </div></td><td align=\"center\" class=\"e3goi\"><div class=\"svla5d\"> <div> <div class=\"lIMUZd\"><div><table class=\"TxbwNb\"><tr><td><a href=\"/url?q=https://www.goodhousekeeping.com/life/pets/g21525625/why-cats-are-best-pets/&amp;sa=U&amp;ved=2ahUKEwiajbfB1KDuAhUs5uAKHWPmC1YQqoUBMAt6BAgJEAE&amp;usg=AOvVaw2rRJdeDK5iAxYJih6-_ocv\"><div class=\"RAyV4b\"><img alt=\"\" class=\"t0fcAb\" src=\"https://encrypted-tbn0.gstatic.com/images?q=tbn:ANd9GcQG-ZOztge6sRU3Iu3FgR8wcJy2_Gddw94dmEj0_COpbcIsdbHYwDacTwVenA&amp;s\"/></div></a></td></tr><tr><td><a href=\"/url?q=https://www.goodhousekeeping.com/life/pets/g21525625/why-cats-are-best-pets/&amp;sa=U&amp;ved=2ahUKEwiajbfB1KDuAhUs5uAKHWPmC1YQr4kDMAt6BAgJEAI&amp;usg=AOvVaw1rNhoVcWh7FNS84fZXHEt4\"><div class=\"Tor4Ec\"> <span class=\"qXLe6d x3G5ab\"> <span class=\"fYyStc\">20 Reasons Why Cats Make...</span> </span> <span class=\"qXLe6d F9iS2e\"> <span class=\"fYyStc\">goodhousekeeping.com</span> </span> </div></a></td></tr></table></div></div> </div> </div></td></tr><tr><td align=\"center\" class=\"e3goi\"><div class=\"svla5d\"> <div> <div class=\"lIMUZd\"><div><table class=\"TxbwNb\"><tr><td><a href=\"/url?q=https://www.aa.com.tr/en/africa/black-cat-bad-omen-notion-hard-to-break-in-cameroon/1944462&amp;sa=U&amp;ved=2ahUKEwiajbfB1KDuAhUs5uAKHWPmC1YQqoUBMAx6BAgIEAE&amp;usg=AOvVaw1TkSbng0Hvj36Cc-FMe-ge\"><div class=\"RAyV4b\"><img alt=\"\" class=\"t0fcAb\" src=\"https://encrypted-tbn0.gstatic.com/images?q=tbn:ANd9GcR4tx7jlHgtM4s76PqOGBYpG4wYF9eI5TQ9g8BRxFxadkdiajy3YvcIlCtomg&amp;s\"/></div></a></td></tr><tr><td><a href=\"/url?q=https://www.aa.com.tr/en/africa/black-cat-bad-omen-notion-hard-to-break-in-cameroon/1944462&amp;sa=U&amp;ved=2ahUKEwiajbfB1KDuAhUs5uAKHWPmC1YQr4kDMAx6BAgIEAI&amp;usg=AOvVaw3QiKCE1rphkVUGsR_xGVAa\"><div class=\"Tor4Ec\"> <span class=\"qXLe6d x3G5ab\"> <span class=\"fYyStc\">Black cat 'bad omen' notion...</span> </span> <span class=\"qXLe6d F9iS2e\"> <span class=\"fYyStc\">aa.com.tr</span> </span> </div></a></td></tr></table></div></div> </div> </div></td><td align=\"center\" class=\"e3goi\"><div class=\"svla5d\"> <div> <div class=\"lIMUZd\"><div><table class=\"TxbwNb\"><tr><td><a href=\"/url?q=https://www.nytimes.com/2020/04/22/health/cats-pets-coronavirus.html&amp;sa=U&amp;ved=2ahUKEwiajbfB1KDuAhUs5uAKHWPmC1YQqoUBMA16BAgHEAE&amp;usg=AOvVaw2cy6dpLU9ztRjIwzFSFsum\"><div class=\"RAyV4b\"><img alt=\"\" class=\"t0fcAb\" src=\"https://encrypted-tbn0.gstatic.com/images?q=tbn:ANd9GcSeNgiJ6XXMt3uJEEWRGsbO2SU_ieHeQw_YZRZivcIGSauT4NBGUvVqzk2B_kc&amp;s\"/></div></a></td></tr><tr><td><a href=\"/url?q=https://www.nytimes.com/2020/04/22/health/cats-pets-coronavirus.html&amp;sa=U&amp;ved=2ahUKEwiajbfB1KDuAhUs5uAKHWPmC1YQr4kDMA16BAgHEAI&amp;usg=AOvVaw01W3HWSXQHbp2gzdbCQXxR\"><div class=\"Tor4Ec\"> <span class=\"qXLe6d x3G5ab\"> <span class=\"fYyStc\">Two Cats Are First U.S....</span> </span> <span class=\"qXLe6d F9iS2e\"> <span class=\"fYyStc\">nytimes.com</span> </span> </div></a></td></tr></table></div></div> </div> </div></td><td align=\"center\" class=\"e3goi\"><div class=\"svla5d\"> <div> <div class=\"lIMUZd\"><div><table class=\"TxbwNb\"><tr><td><a href=\"/url?q=https://www.bbc.com/news/uk-england-stoke-staffordshire-52047832&amp;sa=U&amp;ved=2ahUKEwiajbfB1KDuAhUs5uAKHWPmC1YQqoUBMA56BAgDEAE&amp;usg=AOvVaw2POIkuEtlpzaAVsI2Y1CV9\"><div class=\"RAyV4b\"><img alt=\"\" class=\"t0fcAb\" src=\"https://encrypted-tbn0.gstatic.com/images?q=tbn:ANd9GcSfxuvoFbt50cMZWFYCLVOvo9aOJKbgx_7nh4liQAeOjNgqWlm2yud0vQ6ADA&amp;s\"/></div></a></td></tr><tr><td><a href=\"/url?q=https://www.bbc.com/news/uk-england-stoke-staffordshire-52047832&amp;sa=U&amp;ved=2ahUKEwiajbfB1KDuAhUs5uAKHWPmC1YQr4kDMA56BAgDEAI&amp;usg=AOvVaw0qq-Kf5palt4QYvduITufs\"><div class=\"Tor4Ec\"> <span class=\"qXLe6d x3G5ab\"> <span class=\"fYyStc\">Coronavirus: Cat owners...</span> </span> <span class=\"qXLe6d F9iS2e\"> <span class=\"fYyStc\">bbc.com</span> </span> </div></a></td></tr></table></div></div> </div> </div></td><td align=\"center\" class=\"e3goi\"><div class=\"svla5d\"> <div> <div class=\"lIMUZd\"><div><table class=\"TxbwNb\"><tr><td><a href=\"/url?q=https://theconversation.com/dont-let-them-out-15-ways-to-keep-your-indoor-cat-happy-138716&amp;sa=U&amp;ved=2ahUKEwiajbfB1KDuAhUs5uAKHWPmC1YQqoUBMA96BAgGEAE&amp;usg=AOvVaw0onclO8sgQ4BJKM4UK1REs\"><div class=\"RAyV4b\"><img alt=\"\" class=\"t0fcAb\" src=\"https://encrypted-tbn0.gstatic.com/images?q=tbn:ANd9GcTKmMi7w58V9Jp5gkf0GyddtHIwPIokZm26tmFj4lxGB-WJJkeyjld5cEkZEQ&amp;s\"/></div></a></td></tr><tr><td><a href=\"/url?q=https://theconversation.com/dont-let-them-out-15-ways-to-keep-your-indoor-cat-happy-138716&amp;sa=U&amp;ved=2ahUKEwiajbfB1KDuAhUs5uAKHWPmC1YQr4kDMA96BAgGEAI&amp;usg=AOvVaw3VEWclZg7yU0lSk4l5_BWT\"><div class=\"Tor4Ec\"> <span class=\"qXLe6d x3G5ab\"> <span class=\"fYyStc\">Don't let them out: 15 ways...</span> </span> <span class=\"qXLe6d F9iS2e\"> <span class=\"fYyStc\">theconversation.com</span> </span> </div></a></td></tr></table></div></div> </div> </div></td></tr><tr><td align=\"center\" class=\"e3goi\"><div class=\"svla5d\"> <div> <div class=\"lIMUZd\"><div><table class=\"TxbwNb\"><tr><td><a href=\"/url?q=https://www.britannica.com/animal/cat/General-features-and-special-adaptations&amp;sa=U&amp;ved=2ahUKEwiajbfB1KDuAhUs5uAKHWPmC1YQqoUBMBB6BAgEEAE&amp;usg=AOvVaw26AvUQquYYuwuStQCg-ery\"><div class=\"RAyV4b\"><img alt=\"\" class=\"t0fcAb\" src=\"https://encrypted-tbn0.gstatic.com/images?q=tbn:ANd9GcSvHa3TK66MqOWV6R2ifkTBRSN1HLQFmpvhqYpyn-qzoHp0kKvmT3FY6IP1NUU&amp;s\"/></div></a></td></tr><tr><td><a href=\"/url?q=https://www.britannica.com/animal/cat/General-features-and-special-adaptations&amp;sa=U&amp;ved=2ahUKEwiajbfB1KDuAhUs5uAKHWPmC1YQr4kDMBB6BAgEEAI&amp;usg=AOvVaw0RUFVsdob9riwCDnBW_UdH\"><div class=\"Tor4Ec\"> <span class=\"qXLe6d x3G5ab\"> <span class=\"fYyStc\">Cat - General features and...</span> </span> <span class=\"qXLe6d F9iS2e\"> <span class=\"fYyStc\">britannica.com</span> </span> </div></a></td></tr></table></div></div> </div> </div></td><td align=\"center\" class=\"e3goi\"><div class=\"svla5d\"> <div> <div class=\"lIMUZd\"><div><table class=\"TxbwNb\"><tr><td><a href=\"/url?q=https://www.hopkinsmedicine.org/health/conditions-and-diseases/cat-scratch-disease&amp;sa=U&amp;ved=2ahUKEwiajbfB1KDuAhUs5uAKHWPmC1YQqoUBMBF6BAgFEAE&amp;usg=AOvVaw36qwD_GdEJ9EhIXIZR9Ljk\"><div class=\"RAyV4b\"><img alt=\"\" class=\"t0fcAb\" src=\"https://encrypted-tbn0.gstatic.com/images?q=tbn:ANd9GcRcRc3Q1AYfdLWh4r5vo4RYC_YD1fRKYbOp_UHmm0gd0vsWLbaedytZzMcW1PY&amp;s\"/></div></a></td></tr><tr><td><a href=\"/url?q=https://www.hopkinsmedicine.org/health/conditions-and-diseases/cat-scratch-disease&amp;sa=U&amp;ved=2ahUKEwiajbfB1KDuAhUs5uAKHWPmC1YQr4kDMBF6BAgFEAI&amp;usg=AOvVaw2XVemuWpDyY2U_9PucFNnS\"><div class=\"Tor4Ec\"> <span class=\"qXLe6d x3G5ab\"> <span class=\"fYyStc\">Cat Scratch Disease | Johns...</span> </span> <span class=\"qXLe6d F9iS2e\"> <span class=\"fYyStc\">hopkinsmedicine.org</span> </span> </div></a></td></tr></table></div></div> </div> </div></td><td align=\"center\" class=\"e3goi\"><div class=\"svla5d\"> <div> <div class=\"lIMUZd\"><div><table class=\"TxbwNb\"><tr><td><a href=\"/url?q=https://www.sciencemag.org/news/2019/02/reality-check-can-cat-poop-cause-mental-illness&amp;sa=U&amp;ved=2ahUKEwiajbfB1KDuAhUs5uAKHWPmC1YQqoUBMBJ6BAgCEAE&amp;usg=AOvVaw2J3Di9BwNqvuozqK6Fo_Fh\"><div class=\"RAyV4b\"><img alt=\"\" class=\"t0fcAb\" src=\"https://encrypted-tbn0.gstatic.com/images?q=tbn:ANd9GcRyfivT33kA6PNR8FiOBmJzfF978vVDtZqmCnMZTHNauTEnaqBV4mUsIPVewA&amp;s\"/></div></a></td></tr><tr><td><a href=\"/url?q=https://www.sciencemag.org/news/2019/02/reality-check-can-cat-poop-cause-mental-illness&amp;sa=U&amp;ved=2ahUKEwiajbfB1KDuAhUs5uAKHWPmC1YQr4kDMBJ6BAgCEAI&amp;usg=AOvVaw0GcC759U1zxuOQfXRBoigP\"><div class=\"Tor4Ec\"> <span class=\"qXLe6d x3G5ab\"> <span class=\"fYyStc\">Reality check: Can cat poop...</span> </span> <span class=\"qXLe6d F9iS2e\"> <span class=\"fYyStc\">sciencemag.org</span> </span> </div></a></td></tr></table></div></div> </div> </div></td><td align=\"center\" class=\"e3goi\"><div class=\"svla5d\"> <div> <div class=\"lIMUZd\"><div><table class=\"TxbwNb\"><tr><td><a href=\"/url?q=https://pets.webmd.com/cats/ss/slideshow-is-my-cat-normal&amp;sa=U&amp;ved=2ahUKEwiajbfB1KDuAhUs5uAKHWPmC1YQqoUBMBN6BAgBEAE&amp;usg=AOvVaw3I8wOrsz_JtVkJ8gCiiuX_\"><div class=\"RAyV4b\"><img alt=\"\" class=\"t0fcAb\" src=\"https://encrypted-tbn0.gstatic.com/images?q=tbn:ANd9GcRYFgvc2p3-xPVPaqgUhd9CRk-OF0JQYYZDjf4lJkDLRXgFcCP7lhq3AyPWY4I&amp;s\"/></div></a></td></tr><tr><td><a href=\"/url?q=https://pets.webmd.com/cats/ss/slideshow-is-my-cat-normal&amp;sa=U&amp;ved=2ahUKEwiajbfB1KDuAhUs5uAKHWPmC1YQr4kDMBN6BAgBEAI&amp;usg=AOvVaw3M-klv0_xGGX5UgE05i3Yi\"><div class=\"Tor4Ec\"> <span class=\"qXLe6d x3G5ab\"> <span class=\"fYyStc\">Is My Cat Normal?</span> </span> <span class=\"qXLe6d F9iS2e\"> <span class=\"fYyStc\">pets.webmd.com</span> </span> </div></a></td></tr></table></div></div> </div> </div></td></tr></table></div><table class=\"uZgmoc\"><tbody><td><a class=\"frGj1b\" href=\"/search?q=cat&amp;biw=1366&amp;bih=695&amp;ie=UTF-8&amp;tbm=isch&amp;ei=tPcCYJrjHazMgwfjzK-wBQ&amp;start=20&amp;sa=N\">Next &gt;</a></td></tbody></table><br/><div class=\"TuS8Ad\" data-ved=\"0ahUKEwiajbfB1KDuAhUs5uAKHWPmC1YQpyoIRQ\"><div align=\"center\"><a class=\"rEM8G\" href=\"/url?q=https://accounts.google.com/ServiceLogin%3Fcontinue%3Dhttps://www.google.com/search%253Fq%253Dcat%2526sxsrf%253DALeKk02OouVpPFDXjIrDvJmBUg6nnDeDAw:1610807126259%2526source%253Dlnms%2526tbm%253Disch%2526sa%253DX%2526ved%253D2ahUKEwj3nr-U1KDuAhW3QRUIHXhFBCgQ_AUoAXoECBQQAw%2526biw%253D1366%2526bih%253D695%26hl%3Den&amp;sa=U&amp;ved=0ahUKEwiajbfB1KDuAhUs5uAKHWPmC1YQxs8CCEY&amp;usg=AOvVaw1KBtRg_Uiuit-Rl4PZewW7\">Sign in</a></div><div><table class=\"bookcf\"><tbody class=\"InWNIe\"><tr><td><a class=\"rEM8G\" href=\"https://www.google.com/preferences?hl=en&amp;sa=X&amp;ved=0ahUKEwiajbfB1KDuAhUs5uAKHWPmC1YQv5YECEc\">Settings</a></td><td><a class=\"rEM8G\" href=\"https://www.google.com/intl/en_ng/policies/privacy/\">Privacy</a></td><td><a class=\"rEM8G\" href=\"https://www.google.com/intl/en_ng/policies/terms/\">Terms</a></td></tr></tbody></table></div></div><div> </div></body></html>"
      ]
     },
     "execution_count": 36,
     "metadata": {},
     "output_type": "execute_result"
    }
   ],
   "source": [
    "# get HTML\n",
    "browser.get_current_page()"
   ]
  },
  {
   "cell_type": "code",
   "execution_count": 37,
   "metadata": {},
   "outputs": [
    {
     "name": "stdout",
     "output_type": "stream",
     "text": [
      "<input name=\"biw\" type=\"hidden\" value=\"1366\"/>\n",
      "<input name=\"bih\" type=\"hidden\" value=\"695\"/>\n",
      "<input name=\"ie\" type=\"hidden\" value=\"ISO-8859-1\"/>\n",
      "<input name=\"tbm\" type=\"hidden\" value=\"isch\"/>\n",
      "<input name=\"oq\" type=\"hidden\"/>\n",
      "<input name=\"aqs\" type=\"hidden\"/>\n",
      "<input class=\"MhzMZd\" name=\"q\" type=\"text\" value=\"cat\"/>\n",
      "<input class=\"xB0fq\" type=\"submit\" value=\"Search\"/>\n"
     ]
    }
   ],
   "source": [
    "# target the search input\n",
    "browser.select_form()\n",
    "browser.get_current_form().print_summary()"
   ]
  },
  {
   "cell_type": "code",
   "execution_count": 38,
   "metadata": {},
   "outputs": [],
   "source": [
    "# search for a term\n",
    "search_term = 'cat'\n",
    "browser['q'] = search_term"
   ]
  },
  {
   "cell_type": "code",
   "execution_count": 39,
   "metadata": {},
   "outputs": [
    {
     "data": {
      "text/plain": [
       "mechanicalsoup.stateful_browser.StatefulBrowser"
      ]
     },
     "execution_count": 39,
     "metadata": {},
     "output_type": "execute_result"
    }
   ],
   "source": [
    "type(browser)"
   ]
  },
  {
   "cell_type": "code",
   "execution_count": 40,
   "metadata": {},
   "outputs": [],
   "source": [
    "# submit/ \"click\" search\n",
    "browser.launch_browser()\n"
   ]
  },
  {
   "cell_type": "code",
   "execution_count": 41,
   "metadata": {},
   "outputs": [],
   "source": [
    "response = browser.submit_selected()"
   ]
  },
  {
   "cell_type": "code",
   "execution_count": 42,
   "metadata": {},
   "outputs": [
    {
     "name": "stdout",
     "output_type": "stream",
     "text": [
      "new_url:  https://www.google.com/search?biw=1366&bih=695&ie=ISO-8859-1&tbm=isch&oq=&aqs=&q=cat\n",
      "response: \n",
      " <!DOCTYPE html PUBLIC \"-//WAPFORUM//DTD XHTML Mobile 1.0//EN\" \"http://www.wapforum.org/DTD/xhtml-mobile10.dtd\"><html xmlns=\"http://www.w3.org/1999/xhtml\" lang=\"en-NG\"><head><meta content=\"application/xhtml+xml; charset=UTF-8\" http-equiv=\"Content-Type\"/><meta content=\"no-cache\" name=\"Cache-Control\"/><title>cat - Google Search</title><style>a{text-decoration:none;color:inherit}a:hover{text-decoration:underline}a img{border:0}body{font-family:Roboto,Helvetica,Arial,sans-serif;padding:8px;margin:0 a\n"
     ]
    }
   ],
   "source": [
    "print('new_url: ', browser.get_url())\n",
    "print('response: \\n', response.text[:500])"
   ]
  },
  {
   "cell_type": "markdown",
   "metadata": {},
   "source": [
    "Navigate to the new pages and target all the images, output will be returned as URLs list"
   ]
  },
  {
   "cell_type": "code",
   "execution_count": 43,
   "metadata": {},
   "outputs": [
    {
     "data": {
      "text/plain": [
       "<Response [200]>"
      ]
     },
     "execution_count": 43,
     "metadata": {},
     "output_type": "execute_result"
    }
   ],
   "source": [
    "# open URL\n",
    "new_url = browser.get_url()\n",
    "browser.open(new_url)"
   ]
  },
  {
   "cell_type": "code",
   "execution_count": 44,
   "metadata": {},
   "outputs": [],
   "source": [
    "# get HTML code\n",
    "page = browser.get_current_page()\n",
    "all_images = page.find_all('img')"
   ]
  },
  {
   "cell_type": "code",
   "execution_count": 46,
   "metadata": {},
   "outputs": [
    {
     "data": {
      "text/plain": [
       "bs4.element.ResultSet"
      ]
     },
     "execution_count": 46,
     "metadata": {},
     "output_type": "execute_result"
    }
   ],
   "source": [
    "type(all_images)"
   ]
  },
  {
   "cell_type": "code",
   "execution_count": 47,
   "metadata": {},
   "outputs": [],
   "source": [
    "# target the source attributes of image\n",
    "img_src = []\n",
    "for image in all_images:\n",
    "    image = image.get('src')\n",
    "    img_src.append(image)"
   ]
  },
  {
   "cell_type": "code",
   "execution_count": 48,
   "metadata": {},
   "outputs": [
    {
     "data": {
      "text/plain": [
       "21"
      ]
     },
     "execution_count": 48,
     "metadata": {},
     "output_type": "execute_result"
    }
   ],
   "source": [
    "len(img_src)"
   ]
  },
  {
   "cell_type": "code",
   "execution_count": 50,
   "metadata": {},
   "outputs": [
    {
     "data": {
      "text/plain": [
       "['/images/branding/searchlogo/1x/googlelogo_desk_heirloom_color_150x55dp.gif',\n",
       " 'https://encrypted-tbn0.gstatic.com/images?q=tbn:ANd9GcTD9EBJQoQP6dwl7Vq_LaYshi7rJ0Gy7Lp1IT--g4t4mquU0E9ul-9Fj8f6H4o&s',\n",
       " 'https://encrypted-tbn0.gstatic.com/images?q=tbn:ANd9GcTBU9Fx1oykyNxQLIuB8KyUBNhC0rqjjCIpQB8sUkethHM_MpNtFqL-7kMhzw&s',\n",
       " 'https://encrypted-tbn0.gstatic.com/images?q=tbn:ANd9GcR1M6cnFrSeLZ4Mhu6G7M4_1hxuM1Svg-QJ2dnBYv5kM1Kg5GDzx91AZccX-Q&s',\n",
       " 'https://encrypted-tbn0.gstatic.com/images?q=tbn:ANd9GcS0VgOQNStRu2FMOu93paswZZzCBmmNcBz43URlXKhL3bqjNsYUb-gaB-dKOWs&s',\n",
       " 'https://encrypted-tbn0.gstatic.com/images?q=tbn:ANd9GcTV3-zBg2kpIl_oDZMC0gNdGplc5zMRQEI418ZJ26dnzSEQ4hRTyEDE71pJCA&s',\n",
       " 'https://encrypted-tbn0.gstatic.com/images?q=tbn:ANd9GcQpEPs6OzeZseb-LvnqZGty5j4lTd_Kv18gPvL87DhhlNSwtPmAT6diUT7eqJc&s',\n",
       " 'https://encrypted-tbn0.gstatic.com/images?q=tbn:ANd9GcR7UDPBCebpUM7tMLJEJwrU_6DW6OBmLaLBVSmWM8YXq7ChWw2fPbR4ZrKEiA&s',\n",
       " 'https://encrypted-tbn0.gstatic.com/images?q=tbn:ANd9GcTGP5Zmc9uybitajY-AsRj99o33w7qJMmN6RSoaD4BI4ZaM7qNqtd73bWL8LXw&s',\n",
       " 'https://encrypted-tbn0.gstatic.com/images?q=tbn:ANd9GcSOAI5pVyH-nHWHMzqmVmhITn2QloNK0rff-oTtoREmtSczp0biRWh4tV3ujw&s']"
      ]
     },
     "execution_count": 50,
     "metadata": {},
     "output_type": "execute_result"
    }
   ],
   "source": [
    "img_src[:10]"
   ]
  },
  {
   "cell_type": "markdown",
   "metadata": {},
   "source": [
    "Fixing the Corrupted URLs"
   ]
  },
  {
   "cell_type": "code",
   "execution_count": 51,
   "metadata": {},
   "outputs": [
    {
     "name": "stdout",
     "output_type": "stream",
     "text": [
      "['https://encrypted-tbn0.gstatic.com/images?q=tbn:ANd9GcTD9EBJQoQP6dwl7Vq_LaYshi7rJ0Gy7Lp1IT--g4t4mquU0E9ul-9Fj8f6H4o&s', 'https://encrypted-tbn0.gstatic.com/images?q=tbn:ANd9GcTBU9Fx1oykyNxQLIuB8KyUBNhC0rqjjCIpQB8sUkethHM_MpNtFqL-7kMhzw&s', 'https://encrypted-tbn0.gstatic.com/images?q=tbn:ANd9GcR1M6cnFrSeLZ4Mhu6G7M4_1hxuM1Svg-QJ2dnBYv5kM1Kg5GDzx91AZccX-Q&s', 'https://encrypted-tbn0.gstatic.com/images?q=tbn:ANd9GcS0VgOQNStRu2FMOu93paswZZzCBmmNcBz43URlXKhL3bqjNsYUb-gaB-dKOWs&s', 'https://encrypted-tbn0.gstatic.com/images?q=tbn:ANd9GcTV3-zBg2kpIl_oDZMC0gNdGplc5zMRQEI418ZJ26dnzSEQ4hRTyEDE71pJCA&s', 'https://encrypted-tbn0.gstatic.com/images?q=tbn:ANd9GcQpEPs6OzeZseb-LvnqZGty5j4lTd_Kv18gPvL87DhhlNSwtPmAT6diUT7eqJc&s', 'https://encrypted-tbn0.gstatic.com/images?q=tbn:ANd9GcR7UDPBCebpUM7tMLJEJwrU_6DW6OBmLaLBVSmWM8YXq7ChWw2fPbR4ZrKEiA&s', 'https://encrypted-tbn0.gstatic.com/images?q=tbn:ANd9GcTGP5Zmc9uybitajY-AsRj99o33w7qJMmN6RSoaD4BI4ZaM7qNqtd73bWL8LXw&s', 'https://encrypted-tbn0.gstatic.com/images?q=tbn:ANd9GcSOAI5pVyH-nHWHMzqmVmhITn2QloNK0rff-oTtoREmtSczp0biRWh4tV3ujw&s', 'https://encrypted-tbn0.gstatic.com/images?q=tbn:ANd9GcT72oSati59B8QjyHt2GhGFo9iO5sioxH-t2jhJpGmpcSQ2wWAKUuhkvQeYbQ&s', 'https://encrypted-tbn0.gstatic.com/images?q=tbn:ANd9GcT_S28m6kTKcKu0r7DhgFcrN586-aqADs2i7NOdni-tEJPrcqBywpiHVNp1Nw&s', 'https://encrypted-tbn0.gstatic.com/images?q=tbn:ANd9GcQG-ZOztge6sRU3Iu3FgR8wcJy2_Gddw94dmEj0_COpbcIsdbHYwDacTwVenA&s', 'https://encrypted-tbn0.gstatic.com/images?q=tbn:ANd9GcR4tx7jlHgtM4s76PqOGBYpG4wYF9eI5TQ9g8BRxFxadkdiajy3YvcIlCtomg&s', 'https://encrypted-tbn0.gstatic.com/images?q=tbn:ANd9GcSfxuvoFbt50cMZWFYCLVOvo9aOJKbgx_7nh4liQAeOjNgqWlm2yud0vQ6ADA&s', 'https://encrypted-tbn0.gstatic.com/images?q=tbn:ANd9GcSeNgiJ6XXMt3uJEEWRGsbO2SU_ieHeQw_YZRZivcIGSauT4NBGUvVqzk2B_kc&s', 'https://encrypted-tbn0.gstatic.com/images?q=tbn:ANd9GcTKmMi7w58V9Jp5gkf0GyddtHIwPIokZm26tmFj4lxGB-WJJkeyjld5cEkZEQ&s', 'https://encrypted-tbn0.gstatic.com/images?q=tbn:ANd9GcSvHa3TK66MqOWV6R2ifkTBRSN1HLQFmpvhqYpyn-qzoHp0kKvmT3FY6IP1NUU&s', 'https://encrypted-tbn0.gstatic.com/images?q=tbn:ANd9GcRcRc3Q1AYfdLWh4r5vo4RYC_YD1fRKYbOp_UHmm0gd0vsWLbaedytZzMcW1PY&s', 'https://encrypted-tbn0.gstatic.com/images?q=tbn:ANd9GcRyfivT33kA6PNR8FiOBmJzfF978vVDtZqmCnMZTHNauTEnaqBV4mUsIPVewA&s', 'https://encrypted-tbn0.gstatic.com/images?q=tbn:ANd9GcRYFgvc2p3-xPVPaqgUhd9CRk-OF0JQYYZDjf4lJkDLRXgFcCP7lhq3AyPWY4I&s']\n"
     ]
    }
   ],
   "source": [
    "# py startswith function to remove all element not having HTTPS\n",
    "\n",
    "# save cleaned links in img_src\n",
    "\n",
    "img_src = [img for img in img_src if img.startswith('https')]\n",
    "\n",
    "print(img_src)"
   ]
  },
  {
   "cell_type": "code",
   "execution_count": 53,
   "metadata": {},
   "outputs": [
    {
     "name": "stdout",
     "output_type": "stream",
     "text": [
      "C:\\Users\\ABUTON\\Desktop\\ML_PATH\\10Acad AfterMath\\Modelling Topics\\cats\n"
     ]
    }
   ],
   "source": [
    "# create a local repo to store cat images\n",
    "\n",
    "import os\n",
    "\n",
    "path = os.getcwd()\n",
    "path = os.path.join(path, search_term + \"s\")\n",
    "print(path)"
   ]
  },
  {
   "cell_type": "code",
   "execution_count": 54,
   "metadata": {},
   "outputs": [
    {
     "data": {
      "text/plain": [
       "'C:\\\\Users\\\\ABUTON\\\\Desktop\\\\ML_PATH\\\\10Acad AfterMath\\\\Modelling Topics\\\\cats'"
      ]
     },
     "execution_count": 54,
     "metadata": {},
     "output_type": "execute_result"
    }
   ],
   "source": [
    "# create the directory\n",
    "os.mkdir(path)\n",
    "# print path where cats images are saving at\n",
    "path"
   ]
  },
  {
   "cell_type": "code",
   "execution_count": 55,
   "metadata": {},
   "outputs": [
    {
     "name": "stdout",
     "output_type": "stream",
     "text": [
      "100% [................................................................................] 3858 / 3858"
     ]
    }
   ],
   "source": [
    "# download images\n",
    "import wget\n",
    "counter = 0\n",
    "for img in img_src:\n",
    "    save_as = os.path.join(path, search_term +str(counter) + '.jpg')\n",
    "    wget.download(img, save_as)\n",
    "    counter += 1"
   ]
  },
  {
   "cell_type": "code",
   "execution_count": 58,
   "metadata": {},
   "outputs": [],
   "source": [
    "url = 'https://www.glassdoor.com/Job/jobs.htm?suggestCount=0&suggestChosen=false&clickSource=searchBtn&typedKeyword=&locT=C&locId=2285502&jobType=&context=Jobs&sc.keyword=Data+Scientist+Intern&dropdown=0'"
   ]
  },
  {
   "cell_type": "code",
   "execution_count": 59,
   "metadata": {},
   "outputs": [
    {
     "data": {
      "text/plain": [
       "<Response [403]>"
      ]
     },
     "execution_count": 59,
     "metadata": {},
     "output_type": "execute_result"
    }
   ],
   "source": [
    "browser.open(url)"
   ]
  },
  {
   "cell_type": "code",
   "execution_count": 61,
   "metadata": {},
   "outputs": [],
   "source": [
    "import requests\n",
    "from bs4 import BeautifulSoup"
   ]
  },
  {
   "cell_type": "code",
   "execution_count": 175,
   "metadata": {},
   "outputs": [],
   "source": [
    "def extract(page):\n",
    "#     headers = {'User-Agent': 'Mozilla/5.0 (Windows NT 10.0; Win64; x64) AppleWebKit/537.36 (KHTML, like Gecko) Chrome/78.0.3904.70 Safari/537.36'}\n",
    "    url = f'https://www.indeed.co.uk/jobs?q=data+scientist&l=London,+Greater+London&start={page}'\n",
    "    try:\n",
    "        browser.open(url)\n",
    "        soup = browser.get_current_page()\n",
    "    except Exception as e:\n",
    "        print(f'check your internet connection {e}')\n",
    "    return soup"
   ]
  },
  {
   "cell_type": "code",
   "execution_count": 176,
   "metadata": {},
   "outputs": [],
   "source": [
    "def transform(soup):\n",
    "    divs = soup.find_all('div', class_ = 'jobsearch-SerpJobCard')\n",
    "    for item in divs:\n",
    "        title = item.find('a').text.strip()\n",
    "        company = item.find('span', class_='company').text.strip()\n",
    "#         rating = item.find('span', {'id': 'text'}).text.strip()\n",
    "        location = item.find('span', class_ = 'location').text.strip()\n",
    "        try:\n",
    "            salary = item.find('span', 'salaryText').text.strip()\n",
    "        except:\n",
    "            salary = ''\n",
    "        summary = item.find('div', {'class': 'summary'}).text.strip().replace('\\n', '')\n",
    "        \n",
    "        jobs = {\n",
    "            'title':title,\n",
    "            'company':company,\n",
    "            'location': location,\n",
    "            'salary':salary,\n",
    "            'summary': summary\n",
    "        }\n",
    "        \n",
    "        joblist.append(jobs)\n",
    "    return"
   ]
  },
  {
   "cell_type": "code",
   "execution_count": 185,
   "metadata": {},
   "outputs": [
    {
     "name": "stdout",
     "output_type": "stream",
     "text": [
      "Getting jobs post 0\n",
      "Getting jobs post 10\n",
      "Getting jobs post 20\n",
      "Getting jobs post 30\n",
      "Getting jobs post 40\n",
      "Getting jobs post 50\n",
      "Getting jobs post 60\n",
      "Getting jobs post 70\n",
      "Getting jobs post 80\n",
      "Getting jobs post 90\n"
     ]
    }
   ],
   "source": [
    "joblist = []\n",
    "\n",
    "for i in range(0, 100, 10):\n",
    "    print(f'Getting jobs post {i}')\n",
    "    soup = extract(i)\n",
    "    transform(soup)"
   ]
  },
  {
   "cell_type": "code",
   "execution_count": 186,
   "metadata": {},
   "outputs": [
    {
     "data": {
      "text/plain": [
       "100"
      ]
     },
     "execution_count": 186,
     "metadata": {},
     "output_type": "execute_result"
    }
   ],
   "source": [
    "len(joblist)"
   ]
  },
  {
   "cell_type": "code",
   "execution_count": 187,
   "metadata": {},
   "outputs": [
    {
     "data": {
      "text/html": [
       "<div>\n",
       "<style scoped>\n",
       "    .dataframe tbody tr th:only-of-type {\n",
       "        vertical-align: middle;\n",
       "    }\n",
       "\n",
       "    .dataframe tbody tr th {\n",
       "        vertical-align: top;\n",
       "    }\n",
       "\n",
       "    .dataframe thead th {\n",
       "        text-align: right;\n",
       "    }\n",
       "</style>\n",
       "<table border=\"1\" class=\"dataframe\">\n",
       "  <thead>\n",
       "    <tr style=\"text-align: right;\">\n",
       "      <th></th>\n",
       "      <th>title</th>\n",
       "      <th>company</th>\n",
       "      <th>location</th>\n",
       "      <th>salary</th>\n",
       "      <th>summary</th>\n",
       "    </tr>\n",
       "  </thead>\n",
       "  <tbody>\n",
       "    <tr>\n",
       "      <th>0</th>\n",
       "      <td>Data Scientist</td>\n",
       "      <td>infarm</td>\n",
       "      <td>London WC2N 5DU</td>\n",
       "      <td></td>\n",
       "      <td>Support other teams to constantly improve our ...</td>\n",
       "    </tr>\n",
       "    <tr>\n",
       "      <th>1</th>\n",
       "      <td>Graduate Program - Associate Data Scientist</td>\n",
       "      <td>RELX Group</td>\n",
       "      <td>London</td>\n",
       "      <td></td>\n",
       "      <td>Create data dictionaries, manage complex entit...</td>\n",
       "    </tr>\n",
       "    <tr>\n",
       "      <th>2</th>\n",
       "      <td>Data Scientist</td>\n",
       "      <td>NHS Midlands and Lancashire Commissioning Supp...</td>\n",
       "      <td>London SE1 6LH</td>\n",
       "      <td>£24,907 - £30,615 a year</td>\n",
       "      <td>Good knowledge of R. This is essential to mani...</td>\n",
       "    </tr>\n",
       "    <tr>\n",
       "      <th>3</th>\n",
       "      <td>Junior Data Scientist</td>\n",
       "      <td>Novafutur</td>\n",
       "      <td>London</td>\n",
       "      <td></td>\n",
       "      <td>Being a data scientist would require the abili...</td>\n",
       "    </tr>\n",
       "    <tr>\n",
       "      <th>4</th>\n",
       "      <td>Data Scientist</td>\n",
       "      <td>Deliveroo</td>\n",
       "      <td>London</td>\n",
       "      <td></td>\n",
       "      <td>Data scientists at Deliveroo report into our d...</td>\n",
       "    </tr>\n",
       "  </tbody>\n",
       "</table>\n",
       "</div>"
      ],
      "text/plain": [
       "                                         title  \\\n",
       "0                               Data Scientist   \n",
       "1  Graduate Program - Associate Data Scientist   \n",
       "2                               Data Scientist   \n",
       "3                        Junior Data Scientist   \n",
       "4                               Data Scientist   \n",
       "\n",
       "                                             company         location  \\\n",
       "0                                             infarm  London WC2N 5DU   \n",
       "1                                         RELX Group           London   \n",
       "2  NHS Midlands and Lancashire Commissioning Supp...   London SE1 6LH   \n",
       "3                                          Novafutur           London   \n",
       "4                                          Deliveroo           London   \n",
       "\n",
       "                     salary                                            summary  \n",
       "0                            Support other teams to constantly improve our ...  \n",
       "1                            Create data dictionaries, manage complex entit...  \n",
       "2  £24,907 - £30,615 a year  Good knowledge of R. This is essential to mani...  \n",
       "3                            Being a data scientist would require the abili...  \n",
       "4                            Data scientists at Deliveroo report into our d...  "
      ]
     },
     "execution_count": 187,
     "metadata": {},
     "output_type": "execute_result"
    }
   ],
   "source": [
    "import pandas as pd\n",
    "\n",
    "df = pd.DataFrame(joblist)\n",
    "df.head()"
   ]
  },
  {
   "cell_type": "code",
   "execution_count": 189,
   "metadata": {},
   "outputs": [
    {
     "data": {
      "text/plain": [
       "19"
      ]
     },
     "execution_count": 189,
     "metadata": {},
     "output_type": "execute_result"
    }
   ],
   "source": [
    "df['location'].nunique()"
   ]
  },
  {
   "cell_type": "code",
   "execution_count": 190,
   "metadata": {},
   "outputs": [
    {
     "data": {
      "text/plain": [
       "0"
      ]
     },
     "execution_count": 190,
     "metadata": {},
     "output_type": "execute_result"
    }
   ],
   "source": [
    "df['salary'].isna().sum()"
   ]
  },
  {
   "cell_type": "code",
   "execution_count": 191,
   "metadata": {
    "collapsed": true
   },
   "outputs": [
    {
     "data": {
      "text/plain": [
       "                              76\n",
       "£31,350 - £32,315 a year       2\n",
       "£35,000 - £65,000 a year       1\n",
       "£24,907 - £30,615 a year       1\n",
       "£53,168 - £62,001 a year       1\n",
       "£85,000 - £95,000 a year       1\n",
       "£400 - £500 a week             1\n",
       "£17,000 a year                 1\n",
       "£28,996 a year                 1\n",
       "£75,000 - £80,000 a year       1\n",
       "£75,000 - £95,000 a year       1\n",
       "£40,000 - £45,000 a year       1\n",
       "£55,000 - £65,000 a year       1\n",
       "£46,000 - £57,000 a year       1\n",
       "£100,000 - £125,000 a year     1\n",
       "£38,000 - £50,000 a year       1\n",
       "£54,700 - £60,635 a year       1\n",
       "£31,000 - £41,000 a year       1\n",
       "£450 - £500 a day              1\n",
       "£43,000 a year                 1\n",
       "£500 - £600 a day              1\n",
       "£45,000 - £60,000 a year       1\n",
       "£49,000 - £80,000 a year       1\n",
       "£450 - £550 a day              1\n",
       "Name: salary, dtype: int64"
      ]
     },
     "execution_count": 191,
     "metadata": {},
     "output_type": "execute_result"
    }
   ],
   "source": [
    "df['salary'].value_counts()"
   ]
  },
  {
   "cell_type": "code",
   "execution_count": 200,
   "metadata": {},
   "outputs": [],
   "source": [
    "lower_bound_salary = [x.split(' ')[0].strip().replace('£','').replace(',', '') for x in df['salary']]\n",
    "# upper_bound_salary = [x.split('-')[1].split('')[0].strip().replace('£','').replace(',', '') for x in df['salary']]"
   ]
  },
  {
   "cell_type": "code",
   "execution_count": 204,
   "metadata": {},
   "outputs": [
    {
     "name": "stdout",
     "output_type": "stream",
     "text": [
      "£28,996\n"
     ]
    }
   ],
   "source": [
    "a = '£31,350 - £32,315 a year'\n",
    "b = '£28,996 a year '\n",
    "if '-' in b:\n",
    "    print('yes')\n",
    "else:\n",
    "    v = b.split(' ')[0]\n",
    "    print(v)"
   ]
  },
  {
   "cell_type": "code",
   "execution_count": 225,
   "metadata": {},
   "outputs": [],
   "source": [
    "upper_bound_salary, lower = [], []\n",
    "for x in df['salary']:\n",
    "    if '-' in x:\n",
    "        a = x.split(' ')[0].strip().replace('£','').replace(',', '')\n",
    "        b = x.split('-')[1].split(' ')[1].strip().replace('£','').replace(',', '')\n",
    "        upper_bound_salary.append(b)\n",
    "        lower.append(a)\n",
    "    else:\n",
    "        b = x.split(' ')[0].strip().replace('£','').replace(',', '')\n",
    "        a = x.split(' ')[0].strip().replace('£','').replace(',', '')\n",
    "        upper_bound_salary.append(b)\n",
    "        lower.append(a)"
   ]
  },
  {
   "cell_type": "code",
   "execution_count": 226,
   "metadata": {},
   "outputs": [
    {
     "name": "stdout",
     "output_type": "stream",
     "text": [
      " \n",
      " \n",
      "24907 30615\n",
      " \n",
      " \n",
      " \n",
      "53168 62001\n",
      " \n",
      " \n",
      "43000 43000\n",
      " \n",
      " \n",
      " \n",
      "85000 95000\n",
      "75000 95000\n",
      " \n",
      "450 500\n",
      " \n",
      " \n",
      " \n"
     ]
    }
   ],
   "source": [
    "for i in range(20):\n",
    "    print(lower[i], upper_bound_salary[i])\n",
    "\n",
    "# a = '£31,350 - £32,315 a year'\n",
    "# if '-' in a:\n",
    "#     print(a.split(' ')[0])\n",
    "#     print(a.split('-')[1].split(' ')[1])\n",
    "# else:\n",
    "#     print(a.split('-')[1].split(' ')[0])"
   ]
  },
  {
   "cell_type": "code",
   "execution_count": 221,
   "metadata": {},
   "outputs": [
    {
     "data": {
      "text/plain": [
       "' £32,315 a year'"
      ]
     },
     "execution_count": 221,
     "metadata": {},
     "output_type": "execute_result"
    }
   ],
   "source": [
    "a.split('-')[1]."
   ]
  },
  {
   "cell_type": "code",
   "execution_count": null,
   "metadata": {},
   "outputs": [],
   "source": []
  }
 ],
 "metadata": {
  "kernelspec": {
   "display_name": "Python 3",
   "language": "python",
   "name": "python3"
  },
  "language_info": {
   "codemirror_mode": {
    "name": "ipython",
    "version": 3
   },
   "file_extension": ".py",
   "mimetype": "text/x-python",
   "name": "python",
   "nbconvert_exporter": "python",
   "pygments_lexer": "ipython3",
   "version": "3.7.4"
  }
 },
 "nbformat": 4,
 "nbformat_minor": 4
}
